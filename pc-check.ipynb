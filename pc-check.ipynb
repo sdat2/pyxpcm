{
 "cells": [
  {
   "cell_type": "code",
   "execution_count": 1,
   "metadata": {
    "ExecuteTime": {
     "end_time": "2020-11-21T22:43:46.012355Z",
     "start_time": "2020-11-21T22:43:43.220964Z"
    }
   },
   "outputs": [],
   "source": [
    "# ! /usr/local/bin/python3\n",
    "# %load_ext autoreload\n",
    "# %autoreload 2\n",
    "import os\n",
    "import numpy as np\n",
    "import xarray as xr\n",
    "xr.set_options(keep_attrs=True)\n",
    "import matplotlib.pyplot as plt\n",
    "import cartopy.crs as ccrs\n",
    "import cartopy.feature\n",
    "import matplotlib.path as mpath\n",
    "import time\n",
    "from functools import wraps\n",
    "import pyxpcm\n",
    "from pyxpcm.models import pcm"
   ]
  },
  {
   "cell_type": "code",
   "execution_count": 5,
   "metadata": {
    "ExecuteTime": {
     "end_time": "2020-11-21T22:50:13.901722Z",
     "start_time": "2020-11-21T22:50:13.874172Z"
    }
   },
   "outputs": [],
   "source": [
    "def train_on_interpolated_year(time_i=42, K=5, maxvar=3, min_depth=300,\n",
    "                               max_depth=2000, separate_pca=False):\n",
    "\n",
    "    main_dir = '/Users/simon/bsose_monthly/'\n",
    "    salt = main_dir + 'bsose_i106_2008to2012_monthly_Salt.nc'\n",
    "    theta = main_dir + 'bsose_i106_2008to2012_monthly_Theta.nc'\n",
    "\n",
    "    z = np.arange(-min_depth, -max_depth, -10.)\n",
    "    features_pcm = {'THETA': z, 'SALT': z}\n",
    "    features = {'THETA': 'THETA', 'SALT': 'SALT'}\n",
    "    fname = 'interp.nc'                                  \n",
    "    if not os.path.isfile(fname):  \n",
    "        salt_nc = xr.open_dataset(salt).isel(time=slice(time_i, time_i+12))\n",
    "        theta_nc = xr.open_dataset(theta).isel(time=slice(time_i, time_i+12))\n",
    "        big_nc = xr.merge([salt_nc, theta_nc])\n",
    "        both_nc = big_nc.where(big_nc.coords['Depth'] >\n",
    "                           max_depth).drop(['iter', 'Depth',\n",
    "                                            'rA', 'drF', 'hFacC'])\n",
    "\n",
    "        lons_new = np.linspace(both_nc.XC.min(), both_nc.XC.max(), 60*4)\n",
    "        lats_new = np.linspace(both_nc.YC.min(), both_nc.YC.max(), 60)\n",
    "  \n",
    "    \n",
    "        ds = both_nc.interp(coords={'YC': lats_new, 'XC': lons_new}) #, method='cubic')\n",
    "        ds.to_netcdf(fname)\n",
    "    else:\n",
    "        ds = xr.open_dataset(fname)\n",
    "    m = pcm(K=K, features=features_pcm,\n",
    "            separate_pca=separate_pca,\n",
    "            maxvar=maxvar,\n",
    "            timeit=True, timeit_verb=1)\n",
    "\n",
    "    m.fit(ds, features=features, dim='Z')\n",
    "\n",
    "    m.add_pca_to_xarray(ds, features=features,\n",
    "                        dim='Z', inplace=True)\n",
    "\n",
    "    m.find_i_metric(ds, inplace=True)\n",
    "    m.predict(ds, features=features, dim='Z',inplace=True)\n",
    "\n",
    "    del ds.PCA_VALUES.attrs['_pyXpcm_cleanable']\n",
    "    del ds.IMETRIC.attrs['_pyXpcm_cleanable']\n",
    "    del ds.A_B.attrs['_pyXpcm_cleanable']\n",
    "    del ds.PCM_LABELS.attrs['_pyXpcm_cleanable']\n",
    "\n",
    "    ds = ds.drop(['THETA', 'SALT'])\n",
    "\n",
    "    return m, ds"
   ]
  },
  {
   "cell_type": "code",
   "execution_count": 6,
   "metadata": {
    "ExecuteTime": {
     "end_time": "2020-11-21T22:50:53.782719Z",
     "start_time": "2020-11-21T22:50:14.442162Z"
    }
   },
   "outputs": [
    {
     "name": "stdout",
     "output_type": "stream",
     "text": [
      "  fit.1-preprocess.1-mask: 65 ms\n",
      "features_dict {'THETA': 'THETA', 'SALT': 'SALT'}\n",
      "  fit.1-preprocess.2-feature_THETA.1-ravel: 258 ms\n",
      "  fit.1-preprocess.2-feature_THETA.2-interp: 4 ms\n",
      "  fit.1-preprocess.2-feature_THETA.3-scale_fit: 1936 ms\n",
      "  fit.1-preprocess.2-feature_THETA.4-scale_transform: 1054 ms\n",
      "  fit.1-preprocess.2-feature_THETA.total: 3255 ms\n",
      "  fit.1-preprocess.2-feature_SALT.1-ravel: 255 ms\n",
      "  fit.1-preprocess.2-feature_SALT.2-interp: 4 ms\n",
      "  fit.1-preprocess.2-feature_SALT.3-scale_fit: 1372 ms\n",
      "  fit.1-preprocess.2-feature_SALT.4-scale_transform: 1023 ms\n",
      "  fit.1-preprocess.2-feature_SALT.total: 2656 ms\n",
      "  fit.1-preprocess.2-feature_all.5-join: 182 ms\n",
      "Fitting PCA\n",
      "  fit.1-preprocess.2-feature_all.6-reduce_fit: 4940 ms\n",
      "  fit.1-preprocess.2-feature_all.7-reduce_transform: 488 ms\n",
      "  fit.1-preprocess.4-xarray: 24 ms\n",
      "  fit.1-preprocess: 11652 ms\n",
      "  fit.fit: 6778 ms\n",
      "  fit.reorder: 0 ms\n",
      "  fit.score: 49 ms\n",
      "  fit: 18480 ms\n",
      "  fit.1-preprocess.1-mask: 94 ms\n",
      "features_dict {'THETA': 'THETA', 'SALT': 'SALT'}\n",
      "  fit.1-preprocess.2-feature_THETA.1-ravel: 287 ms\n",
      "  fit.1-preprocess.2-feature_THETA.2-interp: 6 ms\n",
      "  fit.1-preprocess.2-feature_THETA.3-scale_fit: 0 ms\n",
      "  fit.1-preprocess.2-feature_THETA.4-scale_transform: 985 ms\n",
      "  fit.1-preprocess.2-feature_THETA.total: 1281 ms\n",
      "  fit.1-preprocess.2-feature_SALT.1-ravel: 227 ms\n",
      "  fit.1-preprocess.2-feature_SALT.2-interp: 4 ms\n",
      "  fit.1-preprocess.2-feature_SALT.3-scale_fit: 0 ms\n",
      "  fit.1-preprocess.2-feature_SALT.4-scale_transform: 997 ms\n",
      "  fit.1-preprocess.2-feature_SALT.total: 1229 ms\n",
      "  fit.1-preprocess.2-feature_all.5-join: 180 ms\n",
      "  fit.1-preprocess.2-feature_all.6-reduce_fit: 0 ms\n",
      "  fit.1-preprocess.2-feature_all.7-reduce_transform: 332 ms\n",
      "  fit.1-preprocess.4-xarray: 20 ms\n",
      "  fit.1-preprocess: 3162 ms\n",
      "  fit: 3162 ms\n",
      "  add_pca.xarray: 4781 ms\n",
      "  predict_proba.1-preprocess.1-mask: 35 ms\n",
      "features_dict {'THETA': 'THETA', 'SALT': 'SALT'}\n",
      "  predict_proba.1-preprocess.2-feature_THETA.1-ravel: 218 ms\n",
      "  predict_proba.1-preprocess.2-feature_THETA.2-interp: 3 ms\n",
      "  predict_proba.1-preprocess.2-feature_THETA.3-scale_fit: 0 ms\n",
      "  predict_proba.1-preprocess.2-feature_THETA.4-scale_transform: 997 ms\n",
      "  predict_proba.1-preprocess.2-feature_THETA.total: 1220 ms\n",
      "  predict_proba.1-preprocess.2-feature_SALT.1-ravel: 202 ms\n",
      "  predict_proba.1-preprocess.2-feature_SALT.2-interp: 4 ms\n",
      "  predict_proba.1-preprocess.2-feature_SALT.3-scale_fit: 0 ms\n",
      "  predict_proba.1-preprocess.2-feature_SALT.4-scale_transform: 994 ms\n",
      "  predict_proba.1-preprocess.2-feature_SALT.total: 1202 ms\n",
      "  predict_proba.1-preprocess.2-feature_all.5-join: 175 ms\n",
      "  predict_proba.1-preprocess.2-feature_all.6-reduce_fit: 0 ms\n",
      "  predict_proba.1-preprocess.2-feature_all.7-reduce_transform: 317 ms\n",
      "  predict_proba.1-preprocess.4-xarray: 20 ms\n",
      "  predict_proba.1-preprocess: 2997 ms\n",
      "  predict_proba.predict: 72 ms\n",
      "  predict_proba.i_metric: 455 ms\n",
      "  ic_metric.xarray: 1548 ms\n",
      "  top_two.xarray: 2984 ms\n",
      "  predict_prob: 8062 ms\n",
      "  predict.1-preprocess.1-mask: 38 ms\n",
      "features_dict {'THETA': 'THETA', 'SALT': 'SALT'}\n",
      "  predict.1-preprocess.2-feature_THETA.1-ravel: 211 ms\n",
      "  predict.1-preprocess.2-feature_THETA.2-interp: 5 ms\n",
      "  predict.1-preprocess.2-feature_THETA.3-scale_fit: 0 ms\n",
      "  predict.1-preprocess.2-feature_THETA.4-scale_transform: 1015 ms\n",
      "  predict.1-preprocess.2-feature_THETA.total: 1232 ms\n",
      "  predict.1-preprocess.2-feature_SALT.1-ravel: 189 ms\n",
      "  predict.1-preprocess.2-feature_SALT.2-interp: 8 ms\n",
      "  predict.1-preprocess.2-feature_SALT.3-scale_fit: 0 ms\n",
      "  predict.1-preprocess.2-feature_SALT.4-scale_transform: 1027 ms\n",
      "  predict.1-preprocess.2-feature_SALT.total: 1226 ms\n",
      "  predict.1-preprocess.2-feature_all.5-join: 179 ms\n",
      "  predict.1-preprocess.2-feature_all.6-reduce_fit: 0 ms\n",
      "  predict.1-preprocess.2-feature_all.7-reduce_transform: 339 ms\n",
      "  predict.1-preprocess.4-xarray: 20 ms\n",
      "  predict.1-preprocess: 3066 ms\n",
      "  predict.predict: 49 ms\n",
      "  predict.score: 54 ms\n",
      "  predict.xarray: 1664 ms\n",
      "  predict: 4837 ms\n"
     ]
    }
   ],
   "source": [
    "m, ds = train_on_interpolated_year()"
   ]
  },
  {
   "cell_type": "code",
   "execution_count": 12,
   "metadata": {
    "ExecuteTime": {
     "end_time": "2020-11-21T22:52:46.265606Z",
     "start_time": "2020-11-21T22:52:46.261597Z"
    }
   },
   "outputs": [
    {
     "data": {
      "text/plain": [
       "array([0.74913433, 0.16114421, 0.07013779])"
      ]
     },
     "execution_count": 12,
     "metadata": {},
     "output_type": "execute_result"
    }
   ],
   "source": [
    "m._reducer['all'].explained_variance_ratio_"
   ]
  },
  {
   "cell_type": "code",
   "execution_count": null,
   "metadata": {},
   "outputs": [],
   "source": []
  }
 ],
 "metadata": {
  "hide_input": false,
  "kernelspec": {
   "display_name": "Python 3",
   "language": "python",
   "name": "python3"
  },
  "language_info": {
   "codemirror_mode": {
    "name": "ipython",
    "version": 3
   },
   "file_extension": ".py",
   "mimetype": "text/x-python",
   "name": "python",
   "nbconvert_exporter": "python",
   "pygments_lexer": "ipython3",
   "version": "3.8.6"
  },
  "varInspector": {
   "cols": {
    "lenName": 16,
    "lenType": 16,
    "lenVar": 40
   },
   "kernels_config": {
    "python": {
     "delete_cmd_postfix": "",
     "delete_cmd_prefix": "del ",
     "library": "var_list.py",
     "varRefreshCmd": "print(var_dic_list())"
    },
    "r": {
     "delete_cmd_postfix": ") ",
     "delete_cmd_prefix": "rm(",
     "library": "var_list.r",
     "varRefreshCmd": "cat(var_dic_list()) "
    }
   },
   "types_to_exclude": [
    "module",
    "function",
    "builtin_function_or_method",
    "instance",
    "_Feature"
   ],
   "window_display": false
  }
 },
 "nbformat": 4,
 "nbformat_minor": 4
}
