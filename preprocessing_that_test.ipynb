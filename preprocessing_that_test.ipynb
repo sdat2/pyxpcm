{
 "cells": [
  {
   "cell_type": "code",
   "execution_count": 47,
   "metadata": {},
   "outputs": [],
   "source": [
    "import numpy as np\n",
    "import xarray as xr\n",
    "xr.set_options(keep_attrs=True)\n",
    "import matplotlib.pyplot as plt\n",
    "import cartopy.crs as ccrs\n",
    "import cartopy.feature\n",
    "import matplotlib.path as mpath\n",
    "import pyxpcm\n",
    "from pyxpcm.models import pcm\n",
    "\n",
    "\n",
    "def pcm_fit_and_post(time_i=42, K=4, maxvar=2):  \n",
    "    # Define features to use\n",
    "    # Instantiate the PCM\n",
    "    \n",
    "    max_depth = 2000\n",
    "    z = np.arange(0., -max_depth, -10.)\n",
    "    features_pcm = {'THETA': z, 'SALT': z}\n",
    "    features = {'THETA': 'THETA', 'SALT': 'SALT'}\n",
    "    salt_nc = xr.open_dataset(salt).isel(time=time_i)\n",
    "    theta_nc = xr.open_dataset(theta).isel(time=time_i)\n",
    "    big_nc = xr.merge([salt_nc, theta_nc])\n",
    "    both_nc = big_nc.where(big_nc.coords['Depth'] > \n",
    "                           max_depth).drop(['iter', 'Depth', \n",
    "                                            'rA', 'drF', 'hFacC'])   \n",
    " \n",
    "    attr_d = {}\n",
    "\n",
    "    for coord in both_nc.coords:\n",
    "        attr_d[coord] = both_nc.coords[coord].attrs\n",
    "        \n",
    "    lons_new = np.linspace(both_nc.XC.min(), both_nc.XC.max(), 60*4)\n",
    "    lats_new = np.linspace(both_nc.YC.min(), both_nc.YC.max(), 60)\n",
    "    # ds = both_nc # .copy(deep=True)\n",
    "    \n",
    "    \n",
    "    ds = both_nc.interp(coords={'YC': lats_new, 'XC': lons_new})#, method='cubic')\n",
    "        \n",
    "    m = pcm(K=K, features=features_pcm, maxvar=maxvar, \n",
    "            timeit=True, timeit_verb=1)\n",
    "    #m.fit(ds, features=features, dim='Z') #, inplace=True)\n",
    "    #m.predict(ds, features=features, dim='Z', inplace=True)\n",
    "    #m.predict_proba(ds, features=features, dim='Z', inplace=True)\n",
    "    #m.find_i_metric(ds, inplace=True)\n",
    "    \n",
    "    #def sanitize():\n",
    "    #    del ds.PCM_LABELS.attrs['_pyXpcm_cleanable']\n",
    "    #    del ds.PCM_POST.attrs['_pyXpcm_cleanable']\n",
    "    #    del ds.PCM_RANK.attrs['_pyXpcm_cleanable']\n",
    "        \n",
    "    #for coord in attr_d:\n",
    "    #    ds.coords[coord].attrs = attr_d[coord]\n",
    "    \n",
    "    X, sampling_dims = m.preprocessing_that(ds, dim='Z', features={'THETA': 'THETA', 'SALT': 'SALT'})\n",
    "\n",
    "    \n",
    "    #sanitize()\n",
    "    return ds, m, X"
   ]
  },
  {
   "cell_type": "code",
   "execution_count": 48,
   "metadata": {},
   "outputs": [
    {
     "name": "stdout",
     "output_type": "stream",
     "text": [
      "The autoreload extension is already loaded. To reload it, use:\n",
      "  %reload_ext autoreload\n"
     ]
    }
   ],
   "source": [
    "main_dir = '/Users/simon/bsose_monthly/'\n",
    "salt = main_dir + 'bsose_i106_2008to2012_monthly_Salt.nc'\n",
    "theta = main_dir + 'bsose_i106_2008to2012_monthly_Theta.nc'\n",
    "\n",
    "%load_ext autoreload\n",
    "%autoreload 2"
   ]
  },
  {
   "cell_type": "code",
   "execution_count": 49,
   "metadata": {},
   "outputs": [
    {
     "ename": "TypeError",
     "evalue": "cond argument is False but must be a <class 'xarray.core.dataset.Dataset'> or <class 'xarray.core.dataarray.DataArray'>",
     "output_type": "error",
     "traceback": [
      "\u001b[0;31m--------------------------------------------------------------------\u001b[0m",
      "\u001b[0;31mTypeError\u001b[0m                          Traceback (most recent call last)",
      "\u001b[0;32m<ipython-input-49-bc913f43f3fa>\u001b[0m in \u001b[0;36m<module>\u001b[0;34m\u001b[0m\n\u001b[0;32m----> 1\u001b[0;31m \u001b[0mds\u001b[0m\u001b[0;34m,\u001b[0m \u001b[0mm\u001b[0m\u001b[0;34m,\u001b[0m \u001b[0mX\u001b[0m \u001b[0;34m=\u001b[0m \u001b[0mpcm_fit_and_post\u001b[0m\u001b[0;34m(\u001b[0m\u001b[0;34m)\u001b[0m\u001b[0;34m\u001b[0m\u001b[0;34m\u001b[0m\u001b[0m\n\u001b[0m",
      "\u001b[0;32m<ipython-input-47-fa7c3fc673ae>\u001b[0m in \u001b[0;36mpcm_fit_and_post\u001b[0;34m(time_i, K, maxvar)\u001b[0m\n\u001b[1;32m     52\u001b[0m     \u001b[0;31m#    ds.coords[coord].attrs = attr_d[coord]\u001b[0m\u001b[0;34m\u001b[0m\u001b[0;34m\u001b[0m\u001b[0;34m\u001b[0m\u001b[0m\n\u001b[1;32m     53\u001b[0m \u001b[0;34m\u001b[0m\u001b[0m\n\u001b[0;32m---> 54\u001b[0;31m     \u001b[0mX\u001b[0m\u001b[0;34m,\u001b[0m \u001b[0msampling_dims\u001b[0m \u001b[0;34m=\u001b[0m \u001b[0mm\u001b[0m\u001b[0;34m.\u001b[0m\u001b[0mpreprocessing_that\u001b[0m\u001b[0;34m(\u001b[0m\u001b[0mds\u001b[0m\u001b[0;34m,\u001b[0m \u001b[0mdim\u001b[0m\u001b[0;34m=\u001b[0m\u001b[0;34m'Z'\u001b[0m\u001b[0;34m,\u001b[0m \u001b[0mfeatures\u001b[0m\u001b[0;34m=\u001b[0m\u001b[0;34m{\u001b[0m\u001b[0;34m'THETA'\u001b[0m\u001b[0;34m:\u001b[0m \u001b[0;34m'THETA'\u001b[0m\u001b[0;34m,\u001b[0m \u001b[0;34m'SALT'\u001b[0m\u001b[0;34m:\u001b[0m \u001b[0;34m'SALT'\u001b[0m\u001b[0;34m}\u001b[0m\u001b[0;34m)\u001b[0m\u001b[0;34m\u001b[0m\u001b[0;34m\u001b[0m\u001b[0m\n\u001b[0m\u001b[1;32m     55\u001b[0m \u001b[0;34m\u001b[0m\u001b[0m\n\u001b[1;32m     56\u001b[0m \u001b[0;34m\u001b[0m\u001b[0m\n",
      "\u001b[0;32m~/pyxpcm/pyxpcm/models.py\u001b[0m in \u001b[0;36mpreprocessing_that\u001b[0;34m(self, ds, dim, features, action)\u001b[0m\n\u001b[1;32m    762\u001b[0m             \u001b[0mda\u001b[0m \u001b[0;34m=\u001b[0m \u001b[0mds\u001b[0m\u001b[0;34m[\u001b[0m\u001b[0mfeature_in_ds\u001b[0m\u001b[0;34m]\u001b[0m\u001b[0;34m\u001b[0m\u001b[0;34m\u001b[0m\u001b[0m\n\u001b[1;32m    763\u001b[0m             \u001b[0mfeature_name\u001b[0m \u001b[0;34m=\u001b[0m \u001b[0mfeature_in_pcm\u001b[0m\u001b[0;34m\u001b[0m\u001b[0;34m\u001b[0m\u001b[0m\n\u001b[0;32m--> 764\u001b[0;31m             X, z, sampling_dims = self.ravel(da, dim=dim,\n\u001b[0m\u001b[1;32m    765\u001b[0m                                              feature_name=feature_name)\n\u001b[1;32m    766\u001b[0m             \u001b[0mX\u001b[0m \u001b[0;34m=\u001b[0m \u001b[0mself\u001b[0m\u001b[0;34m.\u001b[0m\u001b[0m_interpoler\u001b[0m\u001b[0;34m[\u001b[0m\u001b[0mfeature_name\u001b[0m\u001b[0;34m]\u001b[0m\u001b[0;34m.\u001b[0m\u001b[0mtransform\u001b[0m\u001b[0;34m(\u001b[0m\u001b[0mX\u001b[0m\u001b[0;34m,\u001b[0m \u001b[0mz\u001b[0m\u001b[0;34m)\u001b[0m\u001b[0;34m\u001b[0m\u001b[0;34m\u001b[0m\u001b[0m\n",
      "\u001b[0;32m~/pyxpcm/pyxpcm/models.py\u001b[0m in \u001b[0;36mravel\u001b[0;34m(self, da, dim, feature_name)\u001b[0m\n\u001b[1;32m    344\u001b[0m             \u001b[0mX\u001b[0m \u001b[0;34m=\u001b[0m \u001b[0mda\u001b[0m\u001b[0;34m.\u001b[0m\u001b[0mstack\u001b[0m\u001b[0;34m(\u001b[0m\u001b[0;34m{\u001b[0m\u001b[0;34m'sampling'\u001b[0m\u001b[0;34m:\u001b[0m \u001b[0msampling_dims\u001b[0m\u001b[0;34m}\u001b[0m\u001b[0;34m)\u001b[0m \u001b[0;31m#todo Improve performance for this operation !\u001b[0m\u001b[0;34m\u001b[0m\u001b[0;34m\u001b[0m\u001b[0m\n\u001b[1;32m    345\u001b[0m             \u001b[0;31m# Apply all-features mask:\u001b[0m\u001b[0;34m\u001b[0m\u001b[0;34m\u001b[0m\u001b[0;34m\u001b[0m\u001b[0m\n\u001b[0;32m--> 346\u001b[0;31m             \u001b[0mX\u001b[0m \u001b[0;34m=\u001b[0m \u001b[0mX\u001b[0m\u001b[0;34m.\u001b[0m\u001b[0mwhere\u001b[0m\u001b[0;34m(\u001b[0m\u001b[0mmask_stacked\u001b[0m \u001b[0;34m==\u001b[0m \u001b[0;36m1\u001b[0m\u001b[0;34m,\u001b[0m \u001b[0mdrop\u001b[0m\u001b[0;34m=\u001b[0m\u001b[0;32mTrue\u001b[0m\u001b[0;34m)\u001b[0m\u001b[0;34m.\u001b[0m\u001b[0mtranspose\u001b[0m\u001b[0;34m(\u001b[0m\u001b[0;34m)\u001b[0m\u001b[0;34m\u001b[0m\u001b[0;34m\u001b[0m\u001b[0m\n\u001b[0m\u001b[1;32m    347\u001b[0m             \u001b[0mz\u001b[0m \u001b[0;34m=\u001b[0m \u001b[0mda\u001b[0m\u001b[0;34m[\u001b[0m\u001b[0mdim\u001b[0m\u001b[0;34m]\u001b[0m\u001b[0;34m.\u001b[0m\u001b[0mvalues\u001b[0m\u001b[0;34m\u001b[0m\u001b[0;34m\u001b[0m\u001b[0m\n\u001b[1;32m    348\u001b[0m \u001b[0;34m\u001b[0m\u001b[0m\n",
      "\u001b[0;32m~/anaconda3/envs/fronts/lib/python3.8/site-packages/xarray/core/common.py\u001b[0m in \u001b[0;36mwhere\u001b[0;34m(self, cond, other, drop)\u001b[0m\n\u001b[1;32m   1207\u001b[0m \u001b[0;34m\u001b[0m\u001b[0m\n\u001b[1;32m   1208\u001b[0m             \u001b[0;32mif\u001b[0m \u001b[0;32mnot\u001b[0m \u001b[0misinstance\u001b[0m\u001b[0;34m(\u001b[0m\u001b[0mcond\u001b[0m\u001b[0;34m,\u001b[0m \u001b[0;34m(\u001b[0m\u001b[0mDataset\u001b[0m\u001b[0;34m,\u001b[0m \u001b[0mDataArray\u001b[0m\u001b[0;34m)\u001b[0m\u001b[0;34m)\u001b[0m\u001b[0;34m:\u001b[0m\u001b[0;34m\u001b[0m\u001b[0;34m\u001b[0m\u001b[0m\n\u001b[0;32m-> 1209\u001b[0;31m                 raise TypeError(\n\u001b[0m\u001b[1;32m   1210\u001b[0m                     \u001b[0;34m\"cond argument is %r but must be a %r or %r\"\u001b[0m\u001b[0;34m\u001b[0m\u001b[0;34m\u001b[0m\u001b[0m\n\u001b[1;32m   1211\u001b[0m                     \u001b[0;34m%\u001b[0m \u001b[0;34m(\u001b[0m\u001b[0mcond\u001b[0m\u001b[0;34m,\u001b[0m \u001b[0mDataset\u001b[0m\u001b[0;34m,\u001b[0m \u001b[0mDataArray\u001b[0m\u001b[0;34m)\u001b[0m\u001b[0;34m\u001b[0m\u001b[0;34m\u001b[0m\u001b[0m\n",
      "\u001b[0;31mTypeError\u001b[0m: cond argument is False but must be a <class 'xarray.core.dataset.Dataset'> or <class 'xarray.core.dataarray.DataArray'>"
     ]
    }
   ],
   "source": [
    "ds, m, X = pcm_fit_and_post()"
   ]
  },
  {
   "cell_type": "code",
   "execution_count": 46,
   "metadata": {},
   "outputs": [],
   "source": [
    "dim='Z'\n",
    "features= {'THETA': 'THETA', 'SALT': 'SALT'}\n",
    "features_dict = ds.pyxpcm.feature_dict(m, features=features)\n",
    "Xlist = []\n",
    "for feature_in_pcm in features_dict:\n",
    "    feature_in_ds = features_dict[feature_in_pcm]\n",
    "    da = ds[feature_in_ds]\n",
    "    feature_name = feature_in_pcm\n",
    "    X, z, sampling_dims = m.ravel(da, dim=dim,\n",
    "                                 feature_name=feature_name)\n",
    "    X = m._interpoler[feature_name].transform(X, z)\n",
    "    Xlist.append(X)"
   ]
  },
  {
   "cell_type": "code",
   "execution_count": 19,
   "metadata": {},
   "outputs": [
    {
     "data": {
      "text/plain": [
       "[<xarray.DataArray (sampling: 10437, Z: 200)>\n",
       " dask.array<_interpnd, shape=(10437, 200), dtype=float64, chunksize=(10437, 200), chunktype=numpy.ndarray>\n",
       " Coordinates:\n",
       "     time      datetime64[ns] 2011-08-01T15:12:00\n",
       "   * sampling  (sampling) MultiIndex\n",
       "   - YC        (sampling) float64 -76.35 -76.35 -75.53 ... -29.72 -29.72 -29.72\n",
       "   - XC        (sampling) float64 203.3 204.8 191.3 192.8 ... 356.9 358.4 359.9\n",
       "   * Z         (Z) float64 0.0 -10.0 -20.0 ... -1.97e+03 -1.98e+03 -1.99e+03,\n",
       " <xarray.DataArray (sampling: 10437, Z: 200)>\n",
       " dask.array<_interpnd, shape=(10437, 200), dtype=float64, chunksize=(10437, 200), chunktype=numpy.ndarray>\n",
       " Coordinates:\n",
       "     time      datetime64[ns] 2011-08-01T15:12:00\n",
       "   * sampling  (sampling) MultiIndex\n",
       "   - YC        (sampling) float64 -76.35 -76.35 -75.53 ... -29.72 -29.72 -29.72\n",
       "   - XC        (sampling) float64 203.3 204.8 191.3 192.8 ... 356.9 358.4 359.9\n",
       "   * Z         (Z) float64 0.0 -10.0 -20.0 ... -1.97e+03 -1.98e+03 -1.99e+03]"
      ]
     },
     "execution_count": 19,
     "metadata": {},
     "output_type": "execute_result"
    }
   ],
   "source": [
    "Xlist"
   ]
  },
  {
   "cell_type": "code",
   "execution_count": 25,
   "metadata": {},
   "outputs": [
    {
     "data": {
      "text/plain": [
       "(10437, 200)"
      ]
     },
     "execution_count": 25,
     "metadata": {},
     "output_type": "execute_result"
    }
   ],
   "source": [
    "Xlist[0].values.shape"
   ]
  },
  {
   "cell_type": "code",
   "execution_count": 24,
   "metadata": {},
   "outputs": [
    {
     "data": {
      "text/plain": [
       "(10437, 200)"
      ]
     },
     "execution_count": 24,
     "metadata": {},
     "output_type": "execute_result"
    }
   ],
   "source": [
    "Xlist[1].values.shape"
   ]
  },
  {
   "cell_type": "code",
   "execution_count": 26,
   "metadata": {},
   "outputs": [],
   "source": [
    "X = np.append(Xlist[0].values, Xlist[1].values, axis=1)"
   ]
  },
  {
   "cell_type": "code",
   "execution_count": 28,
   "metadata": {},
   "outputs": [
    {
     "data": {
      "text/plain": [
       "(10437, 400)"
      ]
     },
     "execution_count": 28,
     "metadata": {},
     "output_type": "execute_result"
    }
   ],
   "source": [
    "X.shape"
   ]
  },
  {
   "cell_type": "code",
   "execution_count": null,
   "metadata": {},
   "outputs": [],
   "source": [
    "X, sampling_dims = preprocessing_that(self, ds, dim='Z', features={'THETA': 'THETA', 'SALT': 'SALT'}) #, action='?')\n"
   ]
  },
  {
   "cell_type": "code",
   "execution_count": 45,
   "metadata": {},
   "outputs": [
    {
     "data": {
      "text/plain": [
       "{'THETA': 'THETA', 'SALT': 'SALT'}"
      ]
     },
     "execution_count": 45,
     "metadata": {},
     "output_type": "execute_result"
    }
   ],
   "source": [
    "features_dict"
   ]
  },
  {
   "cell_type": "code",
   "execution_count": null,
   "metadata": {},
   "outputs": [],
   "source": []
  }
 ],
 "metadata": {
  "kernelspec": {
   "display_name": "Python 3",
   "language": "python",
   "name": "python3"
  },
  "language_info": {
   "codemirror_mode": {
    "name": "ipython",
    "version": 3
   },
   "file_extension": ".py",
   "mimetype": "text/x-python",
   "name": "python",
   "nbconvert_exporter": "python",
   "pygments_lexer": "ipython3",
   "version": "3.8.3"
  }
 },
 "nbformat": 4,
 "nbformat_minor": 4
}
