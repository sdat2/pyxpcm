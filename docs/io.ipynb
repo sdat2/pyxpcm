{
 "cells": [
  {
   "cell_type": "markdown",
   "metadata": {
    "papermill": {
     "duration": 0.008926,
     "end_time": "2020-02-21T20:24:34.276795",
     "exception": false,
     "start_time": "2020-02-21T20:24:34.267869",
     "status": "completed"
    },
    "tags": []
   },
   "source": [
    "# Save and load PCM from local files\n",
    "\n",
    "PCM instances are light weigth python objects and can easily be saved on and loaded from files. pyXpcm uses the netcdf file format because it is easy to add meta-data to numerical arrays."
   ]
  },
  {
   "cell_type": "code",
   "execution_count": 6,
   "metadata": {
    "nbsphinx": "hidden",
    "papermill": {
     "duration": 1.342304,
     "end_time": "2020-02-21T20:24:35.624591",
     "exception": false,
     "start_time": "2020-02-21T20:24:34.282287",
     "status": "completed"
    },
    "tags": []
   },
   "outputs": [
    {
     "name": "stdout",
     "output_type": "stream",
     "text": [
      "xarray: 0.15.1, /Users/simon/anaconda3/envs/pyxpcm/lib/python3.6/site-packages/xarray/__init__.py\n",
      "pyxpcm: 0.4.1, /Users/simon/anaconda3/envs/pyxpcm/lib/python3.6/site-packages/pyxpcm/__init__.py\n"
     ]
    }
   ],
   "source": [
    "# Hidden cell\n",
    "import os, sys\n",
    "import numpy as np\n",
    "import pandas as pd\n",
    "import xarray as xr\n",
    "print(\"xarray: %s, %s\" % (xr.__version__, xr.__file__))\n",
    "\n",
    "import matplotlib.pyplot as plt\n",
    "%matplotlib inline\n",
    "\n",
    "sys.path.insert(0, os.path.abspath('/Users/gmaze/git/github/gmaze/pyxpcm'))\n",
    "import pyxpcm\n",
    "print(\"pyxpcm: %s, %s\" % (pyxpcm.__version__, pyxpcm.__file__))"
   ]
  },
  {
   "cell_type": "markdown",
   "metadata": {
    "papermill": {
     "duration": 0.007222,
     "end_time": "2020-02-21T20:24:35.635889",
     "exception": false,
     "start_time": "2020-02-21T20:24:35.628667",
     "status": "completed"
    },
    "tags": []
   },
   "source": [
    "**Import and set-up**\n",
    "\n",
    "Import the library and toy data"
   ]
  },
  {
   "cell_type": "code",
   "execution_count": 7,
   "metadata": {
    "papermill": {
     "duration": 0.040612,
     "end_time": "2020-02-21T20:24:35.680419",
     "exception": false,
     "start_time": "2020-02-21T20:24:35.639807",
     "status": "completed"
    },
    "tags": []
   },
   "outputs": [],
   "source": [
    "import pyxpcm\n",
    "from pyxpcm.models import pcm\n",
    "\n",
    "# Load tutorial data:\n",
    "ds = pyxpcm.tutorial.open_dataset('argo').load()"
   ]
  },
  {
   "cell_type": "markdown",
   "metadata": {
    "papermill": {
     "duration": 0.007448,
     "end_time": "2020-02-21T20:24:35.692782",
     "exception": false,
     "start_time": "2020-02-21T20:24:35.685334",
     "status": "completed"
    },
    "tags": []
   },
   "source": [
    "## Saving a model\n",
    "\n",
    "Let's first create a PCM and fit it onto the tutorial dataset:"
   ]
  },
  {
   "cell_type": "code",
   "execution_count": 8,
   "metadata": {
    "papermill": {
     "duration": 28.43338,
     "end_time": "2020-02-21T20:25:04.132285",
     "exception": false,
     "start_time": "2020-02-21T20:24:35.698905",
     "status": "completed"
    },
    "tags": []
   },
   "outputs": [
    {
     "data": {
      "text/plain": [
       "<pcm 'gmm' (K: 4, F: 2)>\n",
       "Number of class: 4\n",
       "Number of feature: 2\n",
       "Feature names: odict_keys(['temperature', 'salinity'])\n",
       "Fitted: True\n",
       "Feature: 'temperature'\n",
       "\t Interpoler: <class 'pyxpcm.utils.Vertical_Interpolator'>\n",
       "\t Scaler: 'normal', <class 'sklearn.preprocessing._data.StandardScaler'>\n",
       "\t Reducer: True, <class 'sklearn.decomposition._pca.PCA'>\n",
       "Feature: 'salinity'\n",
       "\t Interpoler: <class 'pyxpcm.utils.Vertical_Interpolator'>\n",
       "\t Scaler: 'normal', <class 'sklearn.preprocessing._data.StandardScaler'>\n",
       "\t Reducer: True, <class 'sklearn.decomposition._pca.PCA'>\n",
       "Classifier: 'gmm', <class 'sklearn.mixture._gaussian_mixture.GaussianMixture'>\n",
       "\t log likelihood of the training set: 33.338452"
      ]
     },
     "execution_count": 8,
     "metadata": {},
     "output_type": "execute_result"
    }
   ],
   "source": [
    "# Define a vertical axis to work with\n",
    "z = np.arange(0.,-1000,-10.)\n",
    "\n",
    "# Define features to use\n",
    "features_pcm = {'temperature': z, 'salinity': z}\n",
    "\n",
    "# Instantiate the PCM:\n",
    "m = pcm(K=4, features=features_pcm)\n",
    "\n",
    "# Fit:\n",
    "m.fit(ds, features={'temperature': 'TEMP', 'salinity': 'PSAL'})"
   ]
  },
  {
   "cell_type": "markdown",
   "metadata": {
    "papermill": {
     "duration": 0.005587,
     "end_time": "2020-02-21T20:25:04.142390",
     "exception": false,
     "start_time": "2020-02-21T20:25:04.136803",
     "status": "completed"
    },
    "tags": []
   },
   "source": [
    "We can now save the fitted model to a local file:"
   ]
  },
  {
   "cell_type": "code",
   "execution_count": 9,
   "metadata": {
    "papermill": {
     "duration": 0.056104,
     "end_time": "2020-02-21T20:25:04.202633",
     "exception": false,
     "start_time": "2020-02-21T20:25:04.146529",
     "status": "completed"
    },
    "tags": []
   },
   "outputs": [],
   "source": [
    "m.to_netcdf('my_pcm.nc')"
   ]
  },
  {
   "cell_type": "markdown",
   "metadata": {
    "papermill": {
     "duration": 0.004434,
     "end_time": "2020-02-21T20:25:04.211633",
     "exception": false,
     "start_time": "2020-02-21T20:25:04.207199",
     "status": "completed"
    },
    "tags": []
   },
   "source": [
    "## Loading a model\n",
    "\n",
    "To load a PCM from file, use: "
   ]
  },
  {
   "cell_type": "code",
   "execution_count": 10,
   "metadata": {
    "papermill": {
     "duration": 0.030746,
     "end_time": "2020-02-21T20:25:04.246817",
     "exception": false,
     "start_time": "2020-02-21T20:25:04.216071",
     "status": "completed"
    },
    "tags": []
   },
   "outputs": [
    {
     "data": {
      "text/plain": [
       "<pcm 'gmm' (K: 4, F: 2)>\n",
       "Number of class: 4\n",
       "Number of feature: 2\n",
       "Feature names: odict_keys(['temperature', 'salinity'])\n",
       "Fitted: True\n",
       "Feature: 'temperature'\n",
       "\t Interpoler: <class 'pyxpcm.utils.Vertical_Interpolator'>\n",
       "\t Scaler: 'normal', <class 'sklearn.preprocessing._data.StandardScaler'>\n",
       "\t Reducer: True, <class 'sklearn.decomposition._pca.PCA'>\n",
       "Feature: 'salinity'\n",
       "\t Interpoler: <class 'pyxpcm.utils.Vertical_Interpolator'>\n",
       "\t Scaler: 'normal', <class 'sklearn.preprocessing._data.StandardScaler'>\n",
       "\t Reducer: True, <class 'sklearn.decomposition._pca.PCA'>\n",
       "Classifier: 'gmm', <class 'sklearn.mixture._gaussian_mixture.GaussianMixture'>\n",
       "\t log likelihood of the training set: 33.338452"
      ]
     },
     "execution_count": 10,
     "metadata": {},
     "output_type": "execute_result"
    }
   ],
   "source": [
    "m_loaded = pyxpcm.load_netcdf('my_pcm.nc')\n",
    "m_loaded"
   ]
  },
  {
   "cell_type": "code",
   "execution_count": null,
   "metadata": {},
   "outputs": [],
   "source": []
  }
 ],
 "metadata": {
  "kernelspec": {
   "display_name": "Python 3",
   "language": "python",
   "name": "python3"
  },
  "language_info": {
   "codemirror_mode": {
    "name": "ipython",
    "version": 3
   },
   "file_extension": ".py",
   "mimetype": "text/x-python",
   "name": "python",
   "nbconvert_exporter": "python",
   "pygments_lexer": "ipython3",
   "version": "3.6.10"
  },
  "papermill": {
   "duration": 31.228503,
   "end_time": "2020-02-21T20:25:04.767166",
   "environment_variables": {},
   "exception": null,
   "input_path": "io.ipynb",
   "output_path": "../io.ipynb",
   "parameters": {},
   "start_time": "2020-02-21T20:24:33.538663",
   "version": "1.2.1"
  }
 },
 "nbformat": 4,
 "nbformat_minor": 2
}
