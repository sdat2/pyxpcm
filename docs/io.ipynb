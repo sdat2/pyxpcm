{
 "cells": [
  {
   "cell_type": "markdown",
   "metadata": {
    "papermill": {
     "duration": 0.006471,
     "end_time": "2020-08-17T12:33:24.340823",
     "exception": false,
     "start_time": "2020-08-17T12:33:24.334352",
     "status": "completed"
    },
    "tags": []
   },
   "source": [
    "# Save and load PCM from local files\n",
    "\n",
    "PCM instances are light weigth python objects and can easily be saved on and loaded from files. pyXpcm uses the netcdf file format because it is easy to add meta-data to numerical arrays."
   ]
  },
  {
   "cell_type": "code",
   "execution_count": 1,
   "metadata": {
    "execution": {
     "iopub.execute_input": "2020-08-17T12:33:24.357024Z",
     "iopub.status.busy": "2020-08-17T12:33:24.356448Z",
     "iopub.status.idle": "2020-08-17T12:33:26.180340Z",
     "shell.execute_reply": "2020-08-17T12:33:26.180653Z"
    },
    "nbsphinx": "hidden",
    "papermill": {
     "duration": 1.835006,
     "end_time": "2020-08-17T12:33:26.180755",
     "exception": false,
     "start_time": "2020-08-17T12:33:24.345749",
     "status": "completed"
    },
    "tags": []
   },
   "outputs": [
    {
     "name": "stdout",
     "output_type": "stream",
     "text": [
      "xarray: 0.15.1, /Users/gmaze/anaconda/envs/obidam36/lib/python3.6/site-packages/xarray/__init__.py\n"
     ]
    },
    {
     "name": "stdout",
     "output_type": "stream",
     "text": [
      "pyxpcm: 0.4.1, /Users/gmaze/git/github/gmaze/pyxpcm/pyxpcm/__init__.py\n"
     ]
    }
   ],
   "source": [
    "# Hidden cell\n",
    "import os, sys\n",
    "import numpy as np\n",
    "import pandas as pd\n",
    "import xarray as xr\n",
    "print(\"xarray: %s, %s\" % (xr.__version__, xr.__file__))\n",
    "\n",
    "import matplotlib.pyplot as plt\n",
    "%matplotlib inline\n",
    "\n",
    "sys.path.insert(0, os.path.abspath('/Users/gmaze/git/github/gmaze/pyxpcm'))\n",
    "import pyxpcm\n",
    "print(\"pyxpcm: %s, %s\" % (pyxpcm.__version__, pyxpcm.__file__))"
   ]
  },
  {
   "cell_type": "markdown",
   "metadata": {
    "papermill": {
     "duration": 0.006441,
     "end_time": "2020-08-17T12:33:26.194791",
     "exception": false,
     "start_time": "2020-08-17T12:33:26.188350",
     "status": "completed"
    },
    "tags": []
   },
   "source": [
    "**Import and set-up**\n",
    "\n",
    "Import the library and toy data"
   ]
  },
  {
   "cell_type": "code",
   "execution_count": 2,
   "metadata": {
    "execution": {
     "iopub.execute_input": "2020-08-17T12:33:26.210851Z",
     "iopub.status.busy": "2020-08-17T12:33:26.210265Z",
     "iopub.status.idle": "2020-08-17T12:33:26.250129Z",
     "shell.execute_reply": "2020-08-17T12:33:26.250705Z"
    },
    "papermill": {
     "duration": 0.049576,
     "end_time": "2020-08-17T12:33:26.250814",
     "exception": false,
     "start_time": "2020-08-17T12:33:26.201238",
     "status": "completed"
    },
    "tags": []
   },
   "outputs": [],
   "source": [
    "import pyxpcm\n",
    "from pyxpcm.models import pcm\n",
    "\n",
    "# Load tutorial data:\n",
    "ds = pyxpcm.tutorial.open_dataset('argo').load()"
   ]
  },
  {
   "cell_type": "markdown",
   "metadata": {
    "papermill": {
     "duration": 0.005656,
     "end_time": "2020-08-17T12:33:26.261345",
     "exception": false,
     "start_time": "2020-08-17T12:33:26.255689",
     "status": "completed"
    },
    "tags": []
   },
   "source": [
    "## Saving a model\n",
    "\n",
    "Let's first create a PCM and fit it onto the tutorial dataset:"
   ]
  },
  {
   "cell_type": "code",
   "execution_count": 3,
   "metadata": {
    "execution": {
     "iopub.execute_input": "2020-08-17T12:33:26.277739Z",
     "iopub.status.busy": "2020-08-17T12:33:26.277297Z",
     "iopub.status.idle": "2020-08-17T12:33:28.527800Z",
     "shell.execute_reply": "2020-08-17T12:33:28.528191Z"
    },
    "papermill": {
     "duration": 2.26154,
     "end_time": "2020-08-17T12:33:28.528297",
     "exception": false,
     "start_time": "2020-08-17T12:33:26.266757",
     "status": "completed"
    },
    "tags": []
   },
   "outputs": [
    {
     "data": {
      "text/plain": [
       "<pcm 'gmm' (K: 4, F: 2)>\n",
       "Number of class: 4\n",
       "Number of feature: 2\n",
       "Feature names: odict_keys(['temperature', 'salinity'])\n",
       "Fitted: True\n",
       "Feature: 'temperature'\n",
       "\t Interpoler: <class 'pyxpcm.utils.Vertical_Interpolator'>\n",
       "\t Scaler: 'normal', <class 'sklearn.preprocessing._data.StandardScaler'>\n",
       "\t Reducer: True, <class 'sklearn.decomposition._pca.PCA'>\n",
       "Feature: 'salinity'\n",
       "\t Interpoler: <class 'pyxpcm.utils.Vertical_Interpolator'>\n",
       "\t Scaler: 'normal', <class 'sklearn.preprocessing._data.StandardScaler'>\n",
       "\t Reducer: True, <class 'sklearn.decomposition._pca.PCA'>\n",
       "Classifier: 'gmm', <class 'sklearn.mixture._gaussian_mixture.GaussianMixture'>\n",
       "\t log likelihood of the training set: 33.335059"
      ]
     },
     "execution_count": 3,
     "metadata": {},
     "output_type": "execute_result"
    }
   ],
   "source": [
    "# Define a vertical axis to work with\n",
    "z = np.arange(0.,-1000,-10.)\n",
    "\n",
    "# Define features to use\n",
    "features_pcm = {'temperature': z, 'salinity': z}\n",
    "\n",
    "# Instantiate the PCM:\n",
    "m = pcm(K=4, features=features_pcm)\n",
    "\n",
    "# Fit:\n",
    "m.fit(ds, features={'temperature': 'TEMP', 'salinity': 'PSAL'})"
   ]
  },
  {
   "cell_type": "markdown",
   "metadata": {
    "papermill": {
     "duration": 0.008296,
     "end_time": "2020-08-17T12:33:28.545952",
     "exception": false,
     "start_time": "2020-08-17T12:33:28.537656",
     "status": "completed"
    },
    "tags": []
   },
   "source": [
    "We can now save the fitted model to a local file:"
   ]
  },
  {
   "cell_type": "code",
   "execution_count": 4,
   "metadata": {
    "execution": {
     "iopub.execute_input": "2020-08-17T12:33:28.567140Z",
     "iopub.status.busy": "2020-08-17T12:33:28.566404Z",
     "iopub.status.idle": "2020-08-17T12:33:28.630728Z",
     "shell.execute_reply": "2020-08-17T12:33:28.631111Z"
    },
    "papermill": {
     "duration": 0.076676,
     "end_time": "2020-08-17T12:33:28.631217",
     "exception": false,
     "start_time": "2020-08-17T12:33:28.554541",
     "status": "completed"
    },
    "tags": []
   },
   "outputs": [],
   "source": [
    "m.to_netcdf('my_pcm.nc')"
   ]
  },
  {
   "cell_type": "markdown",
   "metadata": {
    "papermill": {
     "duration": 0.006578,
     "end_time": "2020-08-17T12:33:28.645004",
     "exception": false,
     "start_time": "2020-08-17T12:33:28.638426",
     "status": "completed"
    },
    "tags": []
   },
   "source": [
    "## Loading a model\n",
    "\n",
    "To load a PCM from file, use: "
   ]
  },
  {
   "cell_type": "code",
   "execution_count": 5,
   "metadata": {
    "execution": {
     "iopub.execute_input": "2020-08-17T12:33:28.668309Z",
     "iopub.status.busy": "2020-08-17T12:33:28.667461Z",
     "iopub.status.idle": "2020-08-17T12:33:28.699727Z",
     "shell.execute_reply": "2020-08-17T12:33:28.700369Z"
    },
    "papermill": {
     "duration": 0.047183,
     "end_time": "2020-08-17T12:33:28.700503",
     "exception": false,
     "start_time": "2020-08-17T12:33:28.653320",
     "status": "completed"
    },
    "tags": []
   },
   "outputs": [
    {
     "data": {
      "text/plain": [
       "<pcm 'gmm' (K: 4, F: 2)>\n",
       "Number of class: 4\n",
       "Number of feature: 2\n",
       "Feature names: odict_keys(['temperature', 'salinity'])\n",
       "Fitted: True\n",
       "Feature: 'temperature'\n",
       "\t Interpoler: <class 'pyxpcm.utils.Vertical_Interpolator'>\n",
       "\t Scaler: 'normal', <class 'sklearn.preprocessing._data.StandardScaler'>\n",
       "\t Reducer: True, <class 'sklearn.decomposition._pca.PCA'>\n",
       "Feature: 'salinity'\n",
       "\t Interpoler: <class 'pyxpcm.utils.Vertical_Interpolator'>\n",
       "\t Scaler: 'normal', <class 'sklearn.preprocessing._data.StandardScaler'>\n",
       "\t Reducer: True, <class 'sklearn.decomposition._pca.PCA'>\n",
       "Classifier: 'gmm', <class 'sklearn.mixture._gaussian_mixture.GaussianMixture'>\n",
       "\t log likelihood of the training set: 33.335059"
      ]
     },
     "execution_count": 5,
     "metadata": {},
     "output_type": "execute_result"
    }
   ],
   "source": [
    "m_loaded = pyxpcm.load_netcdf('my_pcm.nc')\n",
    "m_loaded"
   ]
  }
 ],
 "metadata": {
  "kernelspec": {
   "display_name": "obidam36",
   "language": "python",
   "name": "obidam36"
  },
  "language_info": {
   "codemirror_mode": {
    "name": "ipython",
    "version": 3
   },
   "file_extension": ".py",
   "mimetype": "text/x-python",
   "name": "python",
   "nbconvert_exporter": "python",
   "pygments_lexer": "ipython3",
   "version": "3.6.10"
  },
  "papermill": {
   "duration": 5.672626,
   "end_time": "2020-08-17T12:33:29.123806",
   "environment_variables": {},
   "exception": null,
   "input_path": "io.ipynb",
   "output_path": "../io.ipynb",
   "parameters": {},
   "start_time": "2020-08-17T12:33:23.451180",
   "version": "2.1.1"
  }
 },
 "nbformat": 4,
 "nbformat_minor": 2
}