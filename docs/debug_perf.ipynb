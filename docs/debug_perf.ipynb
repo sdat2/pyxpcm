{
 "cells": [
  {
   "cell_type": "markdown",
   "metadata": {
    "papermill": {
     "duration": 0.014027,
     "end_time": "2020-02-21T20:25:05.501007",
     "exception": false,
     "start_time": "2020-02-21T20:25:05.486980",
     "status": "completed"
    },
    "tags": [],
    "toc-hr-collapsed": false
   },
   "source": [
    "# Debugging and performances"
   ]
  },
  {
   "cell_type": "code",
   "execution_count": 1,
   "metadata": {
    "nbsphinx": "hidden",
    "papermill": {
     "duration": 1.226744,
     "end_time": "2020-02-21T20:25:06.737804",
     "exception": false,
     "start_time": "2020-02-21T20:25:05.511060",
     "status": "completed"
    },
    "tags": []
   },
   "outputs": [
    {
     "name": "stdout",
     "output_type": "stream",
     "text": [
      "xarray: 0.15.1, /Users/simon/anaconda3/envs/pyxpcm/lib/python3.6/site-packages/xarray/__init__.py\n",
      "pyxpcm: 0.4.1, /Users/simon/anaconda3/envs/pyxpcm/lib/python3.6/site-packages/pyxpcm/__init__.py\n"
     ]
    }
   ],
   "source": [
    "# Hidden cell\n",
    "import os, sys\n",
    "import numpy as np\n",
    "import pandas as pd\n",
    "import xarray as xr\n",
    "print(\"xarray: %s, %s\" % (xr.__version__, xr.__file__))\n",
    "\n",
    "import matplotlib.pyplot as plt\n",
    "%matplotlib inline\n",
    "sys.path.insert(0, os.path.abspath('/Users/gmaze/git/github/gmaze/pyxpcm'))\n",
    "\n",
    "import pyxpcm\n",
    "print(\"pyxpcm: %s, %s\" % (pyxpcm.__version__, pyxpcm.__file__))"
   ]
  },
  {
   "cell_type": "markdown",
   "metadata": {
    "papermill": {
     "duration": 0.009996,
     "end_time": "2020-02-21T20:25:06.755372",
     "exception": false,
     "start_time": "2020-02-21T20:25:06.745376",
     "status": "completed"
    },
    "tags": []
   },
   "source": [
    "**Import and set-up**\n",
    "\n",
    "Import the library and toy data"
   ]
  },
  {
   "cell_type": "code",
   "execution_count": 2,
   "metadata": {
    "papermill": {
     "duration": 0.045649,
     "end_time": "2020-02-21T20:25:06.808398",
     "exception": false,
     "start_time": "2020-02-21T20:25:06.762749",
     "status": "completed"
    },
    "tags": []
   },
   "outputs": [],
   "source": [
    "import pyxpcm\n",
    "from pyxpcm.models import pcm\n",
    "\n",
    "# Load a dataset to work with:\n",
    "ds = pyxpcm.tutorial.open_dataset('argo').load()\n",
    "\n",
    "# Define vertical axis and features to use:\n",
    "z = np.arange(0.,-1000.,-10.)\n",
    "features_pcm = {'temperature': z, 'salinity': z}\n",
    "features_in_ds = {'temperature': 'TEMP', 'salinity': 'PSAL'}"
   ]
  },
  {
   "cell_type": "markdown",
   "metadata": {
    "papermill": {
     "duration": 0.007164,
     "end_time": "2020-02-21T20:25:06.823359",
     "exception": false,
     "start_time": "2020-02-21T20:25:06.816195",
     "status": "completed"
    },
    "tags": []
   },
   "source": [
    "## Debugging\n",
    "\n",
    "Use option ``debug`` to print log messages "
   ]
  },
  {
   "cell_type": "code",
   "execution_count": 3,
   "metadata": {
    "papermill": {
     "duration": 28.442833,
     "end_time": "2020-02-21T20:25:35.273656",
     "exception": false,
     "start_time": "2020-02-21T20:25:06.830823",
     "status": "completed"
    },
    "tags": []
   },
   "outputs": [
    {
     "name": "stdout",
     "output_type": "stream",
     "text": [
      "> Start preprocessing for action 'fit'\n",
      "\n",
      "\t> Preprocessing xarray dataset 'TEMP' as PCM feature 'temperature'\n",
      "\t X RAVELED with success [<class 'xarray.core.dataarray.DataArray'>, <class 'dask.array.core.Array'>, ((7560,), (282,))]\n",
      "\t\tOutput axis is in the input axis, not need to interpolate, simple intersection\n",
      "\t X INTERPOLATED with success [<class 'xarray.core.dataarray.DataArray'>, <class 'dask.array.core.Array'>, ((7560,), (100,))]\n",
      "\t X SCALED with success) [<class 'xarray.core.dataarray.DataArray'>, <class 'numpy.ndarray'>, None]\n",
      "\t X REDUCED with success) [<class 'xarray.core.dataarray.DataArray'>, <class 'numpy.ndarray'>, None]\n",
      "\ttemperature pre-processed with success,  [<class 'xarray.core.dataarray.DataArray'>, <class 'numpy.ndarray'>, None]\n",
      "\tHomogenisation for fit of temperature\n",
      "\n",
      "\t> Preprocessing xarray dataset 'PSAL' as PCM feature 'salinity'\n",
      "\t X RAVELED with success [<class 'xarray.core.dataarray.DataArray'>, <class 'dask.array.core.Array'>, ((7560,), (282,))]\n",
      "\t\tOutput axis is in the input axis, not need to interpolate, simple intersection\n",
      "\t X INTERPOLATED with success [<class 'xarray.core.dataarray.DataArray'>, <class 'dask.array.core.Array'>, ((7560,), (100,))]\n",
      "\t X SCALED with success) [<class 'xarray.core.dataarray.DataArray'>, <class 'numpy.ndarray'>, None]\n",
      "\t X REDUCED with success) [<class 'xarray.core.dataarray.DataArray'>, <class 'numpy.ndarray'>, None]\n",
      "\tsalinity pre-processed with success,  [<class 'xarray.core.dataarray.DataArray'>, <class 'numpy.ndarray'>, None]\n",
      "\tHomogenisation for fit of salinity\n",
      "\tFeatures array shape and type for xarray: (7560, 30) <class 'numpy.ndarray'> <class 'memoryview'>\n",
      "> Preprocessing done, working with final X (<class 'xarray.core.dataarray.DataArray'>) array of shape: (7560, 30)  and sampling dimensions: ['N_PROF']\n"
     ]
    }
   ],
   "source": [
    "# Instantiate a new PCM:\n",
    "m = pcm(K=8, features=features_pcm, debug=True)\n",
    "\n",
    "# Fit with log:\n",
    "m.fit(ds, features=features_in_ds);"
   ]
  },
  {
   "cell_type": "markdown",
   "metadata": {
    "papermill": {
     "duration": 0.00931,
     "end_time": "2020-02-21T20:25:35.291511",
     "exception": false,
     "start_time": "2020-02-21T20:25:35.282201",
     "status": "completed"
    },
    "tags": [],
    "toc-hr-collapsed": true
   },
   "source": [
    "## Performance / Optimisation\n",
    "\n",
    "Use ``timeit`` and ``timeit_verb`` to compute computation time of PCM operations\n",
    "\n",
    "Times are accessible as a pandas Dataframe in ``timeit`` pyXpcm instance property.\n",
    "\n",
    "The pyXpcm ``m.plot.timeit()`` plot method allows for a simple visualisation of times."
   ]
  },
  {
   "cell_type": "markdown",
   "metadata": {
    "papermill": {
     "duration": 0.008074,
     "end_time": "2020-02-21T20:25:35.308110",
     "exception": false,
     "start_time": "2020-02-21T20:25:35.300036",
     "status": "completed"
    },
    "tags": []
   },
   "source": [
    "### Time readings during execution"
   ]
  },
  {
   "cell_type": "code",
   "execution_count": 4,
   "metadata": {
    "papermill": {
     "duration": 2.068142,
     "end_time": "2020-02-21T20:25:37.384441",
     "exception": false,
     "start_time": "2020-02-21T20:25:35.316299",
     "status": "completed"
    },
    "tags": []
   },
   "outputs": [
    {
     "name": "stdout",
     "output_type": "stream",
     "text": [
      "  fit.1-preprocess.1-mask: 22 ms\n",
      "  fit.1-preprocess.2-feature_temperature.1-ravel: 32 ms\n",
      "  fit.1-preprocess.2-feature_temperature.2-interp: 1 ms\n",
      "  fit.1-preprocess.2-feature_temperature.3-scale_fit: 10 ms\n",
      "  fit.1-preprocess.2-feature_temperature.4-scale_transform: 5 ms\n",
      "  fit.1-preprocess.2-feature_temperature.5-reduce_fit: 14 ms\n",
      "  fit.1-preprocess.2-feature_temperature.6-reduce_transform: 3 ms\n",
      "  fit.1-preprocess.2-feature_temperature.total: 68 ms\n",
      "  fit.1-preprocess: 68 ms\n",
      "  fit.1-preprocess.3-homogeniser: 1 ms\n",
      "  fit.1-preprocess.2-feature_salinity.1-ravel: 28 ms\n",
      "  fit.1-preprocess.2-feature_salinity.2-interp: 1 ms\n",
      "  fit.1-preprocess.2-feature_salinity.3-scale_fit: 8 ms\n",
      "  fit.1-preprocess.2-feature_salinity.4-scale_transform: 5 ms\n",
      "  fit.1-preprocess.2-feature_salinity.5-reduce_fit: 12 ms\n",
      "  fit.1-preprocess.2-feature_salinity.6-reduce_transform: 2 ms\n",
      "  fit.1-preprocess.2-feature_salinity.total: 59 ms\n",
      "  fit.1-preprocess: 59 ms\n",
      "  fit.1-preprocess.3-homogeniser: 2 ms\n",
      "  fit.1-preprocess.4-xarray: 1 ms\n",
      "  fit.1-preprocess: 157 ms\n",
      "  fit.fit: 2822 ms\n",
      "  fit.score: 10 ms\n",
      "  fit: 2991 ms\n"
     ]
    }
   ],
   "source": [
    "# Create a PCM and execute methods:\n",
    "m = pcm(K=8, features=features_pcm, timeit=True, timeit_verb=1)\n",
    "m.fit(ds, features=features_in_ds);"
   ]
  },
  {
   "cell_type": "markdown",
   "metadata": {
    "papermill": {
     "duration": 0.009289,
     "end_time": "2020-02-21T20:25:37.403346",
     "exception": false,
     "start_time": "2020-02-21T20:25:37.394057",
     "status": "completed"
    },
    "tags": []
   },
   "source": [
    "### A posteriori Execution time analysis"
   ]
  },
  {
   "cell_type": "code",
   "execution_count": 5,
   "metadata": {
    "papermill": {
     "duration": 3.782994,
     "end_time": "2020-02-21T20:25:41.195237",
     "exception": false,
     "start_time": "2020-02-21T20:25:37.412243",
     "status": "completed"
    },
    "tags": []
   },
   "outputs": [],
   "source": [
    "# Create a PCM and execute methods:\n",
    "m = pcm(K=8, features=features_pcm, timeit=True, timeit_verb=0)\n",
    "m.fit(ds, features=features_in_ds);\n",
    "m.predict(ds, features=features_in_ds);\n",
    "m.fit_predict(ds, features=features_in_ds);"
   ]
  },
  {
   "cell_type": "raw",
   "metadata": {
    "papermill": {
     "duration": 0.00933,
     "end_time": "2020-02-21T20:25:41.213658",
     "exception": false,
     "start_time": "2020-02-21T20:25:41.204328",
     "status": "completed"
    },
    "raw_mimetype": "text/restructuredtext",
    "tags": []
   },
   "source": [
    "Execution times are accessible through a dataframe with the :py:attr:`pyxpcm.pcm.timeit` property"
   ]
  },
  {
   "cell_type": "code",
   "execution_count": 6,
   "metadata": {
    "papermill": {
     "duration": 0.028948,
     "end_time": "2020-02-21T20:25:41.250907",
     "exception": false,
     "start_time": "2020-02-21T20:25:41.221959",
     "status": "completed"
    },
    "tags": []
   },
   "outputs": [
    {
     "data": {
      "text/plain": [
       "Method       Sub-method    Sub-sub-method         Sub-sub-sub-method\n",
       "fit          1-preprocess  1-mask                 total                   22.065878\n",
       "                           2-feature_temperature  1-ravel                 32.550812\n",
       "                                                  2-interp                 0.667810\n",
       "                                                  3-scale_fit              9.699821\n",
       "                                                  4-scale_transform        4.242897\n",
       "                                                  5-reduce_fit            11.743069\n",
       "                                                  6-reduce_transform       2.529860\n",
       "                                                  total                   61.564922\n",
       "                           total                                         245.039225\n",
       "                           3-homogeniser          total                    2.043009\n",
       "                           2-feature_salinity     1-ravel                 20.107985\n",
       "                                                  2-interp                 0.857115\n",
       "                                                  3-scale_fit              7.521868\n",
       "                                                  4-scale_transform        5.438805\n",
       "                                                  5-reduce_fit            11.250019\n",
       "                                                  6-reduce_transform       2.398968\n",
       "                                                  total                   47.724247\n",
       "                           4-xarray               total                    0.965118\n",
       "             fit           total                                        1667.057753\n",
       "             score         total                                           8.469820\n",
       "             total                                                      1811.987877\n",
       "predict      1-preprocess  1-mask                 total                   17.902851\n",
       "                           2-feature_temperature  1-ravel                 28.310061\n",
       "                                                  2-interp                 0.667095\n",
       "                                                  3-scale_fit              0.000954\n",
       "                                                  4-scale_transform        4.352093\n",
       "                                                  5-reduce_fit             0.002146\n",
       "                                                  6-reduce_transform       2.496004\n",
       "                                                  total                   35.931110\n",
       "                           total                                         156.038046\n",
       "                                                                           ...     \n",
       "                           2-feature_salinity     6-reduce_transform       2.148867\n",
       "                                                  total                   31.617165\n",
       "                           4-xarray               total                    0.955105\n",
       "             predict       total                                           8.165121\n",
       "             score         total                                           8.142710\n",
       "             xarray        total                                           6.443024\n",
       "             total                                                       111.670017\n",
       "fit_predict  1-preprocess  1-mask                 total                   21.943808\n",
       "                           2-feature_temperature  1-ravel                 19.767046\n",
       "                                                  2-interp                 0.615120\n",
       "                                                  3-scale_fit              0.000954\n",
       "                                                  4-scale_transform        5.409002\n",
       "                                                  5-reduce_fit             0.001192\n",
       "                                                  6-reduce_transform       3.573179\n",
       "                                                  total                   29.469013\n",
       "                           total                                         146.360636\n",
       "                           3-homogeniser          total                    2.272129\n",
       "                           2-feature_salinity     1-ravel                 22.898912\n",
       "                                                  2-interp                 0.604153\n",
       "                                                  3-scale_fit              0.000954\n",
       "                                                  4-scale_transform        4.412889\n",
       "                                                  5-reduce_fit             0.000954\n",
       "                                                  6-reduce_transform       2.438068\n",
       "                                                  total                   30.456781\n",
       "                           4-xarray               total                    0.965834\n",
       "             fit           total                                        1735.617161\n",
       "             score         total                                           8.389950\n",
       "             predict       total                                           7.148027\n",
       "             xarray        total                                           5.773783\n",
       "             total                                                      1843.878031\n",
       "Length: 66, dtype: float64"
      ]
     },
     "execution_count": 6,
     "metadata": {},
     "output_type": "execute_result"
    }
   ],
   "source": [
    "m.timeit"
   ]
  },
  {
   "cell_type": "markdown",
   "metadata": {
    "papermill": {
     "duration": 0.00852,
     "end_time": "2020-02-21T20:25:41.268596",
     "exception": false,
     "start_time": "2020-02-21T20:25:41.260076",
     "status": "completed"
    },
    "raw_mimetype": "-",
    "tags": []
   },
   "source": [
    "## Visualisation help"
   ]
  },
  {
   "cell_type": "raw",
   "metadata": {
    "papermill": {
     "duration": 0.00891,
     "end_time": "2020-02-21T20:25:41.286186",
     "exception": false,
     "start_time": "2020-02-21T20:25:41.277276",
     "status": "completed"
    },
    "raw_mimetype": "text/restructuredtext",
    "tags": []
   },
   "source": [
    "To facilitate your analysis of execution times, you can use :meth:`pyxpcm.plot.timeit`."
   ]
  },
  {
   "cell_type": "markdown",
   "metadata": {
    "papermill": {
     "duration": 0.009294,
     "end_time": "2020-02-21T20:25:41.306069",
     "exception": false,
     "start_time": "2020-02-21T20:25:41.296775",
     "status": "completed"
    },
    "tags": []
   },
   "source": [
    "### Main steps by method"
   ]
  },
  {
   "cell_type": "code",
   "execution_count": 6,
   "metadata": {
    "papermill": {
     "duration": 0.252672,
     "end_time": "2020-02-21T20:25:41.568114",
     "exception": false,
     "start_time": "2020-02-21T20:25:41.315442",
     "status": "completed"
    },
    "tags": []
   },
   "outputs": [
    {
     "data": {
      "text/html": [
       "<div>\n",
       "<style scoped>\n",
       "    .dataframe tbody tr th:only-of-type {\n",
       "        vertical-align: middle;\n",
       "    }\n",
       "\n",
       "    .dataframe tbody tr th {\n",
       "        vertical-align: top;\n",
       "    }\n",
       "\n",
       "    .dataframe thead th {\n",
       "        text-align: right;\n",
       "    }\n",
       "</style>\n",
       "<table border=\"1\" class=\"dataframe\">\n",
       "  <thead>\n",
       "    <tr style=\"text-align: right;\">\n",
       "      <th>Sub-method</th>\n",
       "      <th>1-preprocess</th>\n",
       "      <th>fit</th>\n",
       "      <th>predict</th>\n",
       "      <th>score</th>\n",
       "      <th>xarray</th>\n",
       "    </tr>\n",
       "    <tr>\n",
       "      <th>Method</th>\n",
       "      <th></th>\n",
       "      <th></th>\n",
       "      <th></th>\n",
       "      <th></th>\n",
       "      <th></th>\n",
       "    </tr>\n",
       "  </thead>\n",
       "  <tbody>\n",
       "    <tr>\n",
       "      <th>fit</th>\n",
       "      <td>514.151812</td>\n",
       "      <td>2729.923248</td>\n",
       "      <td>NaN</td>\n",
       "      <td>13.323784</td>\n",
       "      <td>NaN</td>\n",
       "    </tr>\n",
       "    <tr>\n",
       "      <th>fit_predict</th>\n",
       "      <td>387.368441</td>\n",
       "      <td>1983.086109</td>\n",
       "      <td>11.361122</td>\n",
       "      <td>10.243893</td>\n",
       "      <td>9.186029</td>\n",
       "    </tr>\n",
       "    <tr>\n",
       "      <th>predict</th>\n",
       "      <td>423.865318</td>\n",
       "      <td>NaN</td>\n",
       "      <td>12.363911</td>\n",
       "      <td>12.063026</td>\n",
       "      <td>9.624243</td>\n",
       "    </tr>\n",
       "  </tbody>\n",
       "</table>\n",
       "</div>"
      ],
      "text/plain": [
       "Sub-method   1-preprocess          fit    predict      score    xarray\n",
       "Method                                                                \n",
       "fit            514.151812  2729.923248        NaN  13.323784       NaN\n",
       "fit_predict    387.368441  1983.086109  11.361122  10.243893  9.186029\n",
       "predict        423.865318          NaN  12.363911  12.063026  9.624243"
      ]
     },
     "execution_count": 6,
     "metadata": {},
     "output_type": "execute_result"
    },
    {
     "data": {
      "image/png": "[encoded data removed]",
      "text/plain": [
       "<Figure size 450x270 with 1 Axes>"
      ]
     },
     "metadata": {},
     "output_type": "display_data"
    }
   ],
   "source": [
    "fig, ax, df = m.plot.timeit(group='Method', split='Sub-method', style='darkgrid') # Default group/split\n",
    "df"
   ]
  },
  {
   "cell_type": "markdown",
   "metadata": {
    "papermill": {
     "duration": 0.009887,
     "end_time": "2020-02-21T20:25:41.587217",
     "exception": false,
     "start_time": "2020-02-21T20:25:41.577330",
     "status": "completed"
    },
    "tags": []
   },
   "source": [
    "### Preprocessing main steps by method"
   ]
  },
  {
   "cell_type": "code",
   "execution_count": 7,
   "metadata": {
    "papermill": {
     "duration": 0.233273,
     "end_time": "2020-02-21T20:25:41.830238",
     "exception": false,
     "start_time": "2020-02-21T20:25:41.596965",
     "status": "completed"
    },
    "tags": []
   },
   "outputs": [
    {
     "data": {
      "text/html": [
       "<div>\n",
       "<style scoped>\n",
       "    .dataframe tbody tr th:only-of-type {\n",
       "        vertical-align: middle;\n",
       "    }\n",
       "\n",
       "    .dataframe tbody tr th {\n",
       "        vertical-align: top;\n",
       "    }\n",
       "\n",
       "    .dataframe thead th {\n",
       "        text-align: right;\n",
       "    }\n",
       "</style>\n",
       "<table border=\"1\" class=\"dataframe\">\n",
       "  <thead>\n",
       "    <tr style=\"text-align: right;\">\n",
       "      <th>Sub-sub-method</th>\n",
       "      <th>1-mask</th>\n",
       "      <th>2-feature_salinity</th>\n",
       "      <th>2-feature_temperature</th>\n",
       "      <th>3-homogeniser</th>\n",
       "      <th>4-xarray</th>\n",
       "    </tr>\n",
       "    <tr>\n",
       "      <th>Method</th>\n",
       "      <th></th>\n",
       "      <th></th>\n",
       "      <th></th>\n",
       "      <th></th>\n",
       "      <th></th>\n",
       "    </tr>\n",
       "  </thead>\n",
       "  <tbody>\n",
       "    <tr>\n",
       "      <th>fit</th>\n",
       "      <td>24.156809</td>\n",
       "      <td>106.884956</td>\n",
       "      <td>121.825457</td>\n",
       "      <td>2.255440</td>\n",
       "      <td>1.127958</td>\n",
       "    </tr>\n",
       "    <tr>\n",
       "      <th>fit_predict</th>\n",
       "      <td>20.551920</td>\n",
       "      <td>77.168226</td>\n",
       "      <td>91.297626</td>\n",
       "      <td>2.600908</td>\n",
       "      <td>1.155853</td>\n",
       "    </tr>\n",
       "    <tr>\n",
       "      <th>predict</th>\n",
       "      <td>18.974066</td>\n",
       "      <td>93.832493</td>\n",
       "      <td>94.421148</td>\n",
       "      <td>2.175093</td>\n",
       "      <td>1.597881</td>\n",
       "    </tr>\n",
       "  </tbody>\n",
       "</table>\n",
       "</div>"
      ],
      "text/plain": [
       "Sub-sub-method     1-mask  2-feature_salinity  2-feature_temperature  \\\n",
       "Method                                                                 \n",
       "fit             24.156809          106.884956             121.825457   \n",
       "fit_predict     20.551920           77.168226              91.297626   \n",
       "predict         18.974066           93.832493              94.421148   \n",
       "\n",
       "Sub-sub-method  3-homogeniser  4-xarray  \n",
       "Method                                   \n",
       "fit                  2.255440  1.127958  \n",
       "fit_predict          2.600908  1.155853  \n",
       "predict              2.175093  1.597881  "
      ]
     },
     "execution_count": 7,
     "metadata": {},
     "output_type": "execute_result"
    },
    {
     "data": {
      "image/png": "[encoded data removed]",
      "text/plain": [
       "<Figure size 450x270 with 1 Axes>"
      ]
     },
     "metadata": {},
     "output_type": "display_data"
    }
   ],
   "source": [
    "fig, ax, df = m.plot.timeit(group='Method', split='Sub-sub-method')\n",
    "df"
   ]
  },
  {
   "cell_type": "markdown",
   "metadata": {
    "papermill": {
     "duration": 0.010133,
     "end_time": "2020-02-21T20:25:41.850964",
     "exception": false,
     "start_time": "2020-02-21T20:25:41.840831",
     "status": "completed"
    },
    "tags": []
   },
   "source": [
    "### Preprocessing details by method"
   ]
  },
  {
   "cell_type": "code",
   "execution_count": 8,
   "metadata": {
    "papermill": {
     "duration": 0.372347,
     "end_time": "2020-02-21T20:25:42.234062",
     "exception": false,
     "start_time": "2020-02-21T20:25:41.861715",
     "status": "completed"
    },
    "tags": []
   },
   "outputs": [
    {
     "data": {
      "text/html": [
       "<div>\n",
       "<style scoped>\n",
       "    .dataframe tbody tr th:only-of-type {\n",
       "        vertical-align: middle;\n",
       "    }\n",
       "\n",
       "    .dataframe tbody tr th {\n",
       "        vertical-align: top;\n",
       "    }\n",
       "\n",
       "    .dataframe thead th {\n",
       "        text-align: right;\n",
       "    }\n",
       "</style>\n",
       "<table border=\"1\" class=\"dataframe\">\n",
       "  <thead>\n",
       "    <tr style=\"text-align: right;\">\n",
       "      <th>Sub-sub-sub-method</th>\n",
       "      <th>1-ravel</th>\n",
       "      <th>2-interp</th>\n",
       "      <th>3-scale_fit</th>\n",
       "      <th>4-scale_transform</th>\n",
       "      <th>5-reduce_fit</th>\n",
       "      <th>6-reduce_transform</th>\n",
       "    </tr>\n",
       "    <tr>\n",
       "      <th>Method</th>\n",
       "      <th></th>\n",
       "      <th></th>\n",
       "      <th></th>\n",
       "      <th></th>\n",
       "      <th></th>\n",
       "      <th></th>\n",
       "    </tr>\n",
       "  </thead>\n",
       "  <tbody>\n",
       "    <tr>\n",
       "      <th>fit</th>\n",
       "      <td>56.342840</td>\n",
       "      <td>1.424551</td>\n",
       "      <td>18.775940</td>\n",
       "      <td>9.549141</td>\n",
       "      <td>22.963047</td>\n",
       "      <td>5.156755</td>\n",
       "    </tr>\n",
       "    <tr>\n",
       "      <th>fit_predict</th>\n",
       "      <td>64.214706</td>\n",
       "      <td>1.462936</td>\n",
       "      <td>0.001907</td>\n",
       "      <td>10.103941</td>\n",
       "      <td>0.004292</td>\n",
       "      <td>8.325100</td>\n",
       "    </tr>\n",
       "    <tr>\n",
       "      <th>predict</th>\n",
       "      <td>65.232277</td>\n",
       "      <td>2.182007</td>\n",
       "      <td>0.003099</td>\n",
       "      <td>16.474962</td>\n",
       "      <td>0.002861</td>\n",
       "      <td>10.085106</td>\n",
       "    </tr>\n",
       "  </tbody>\n",
       "</table>\n",
       "</div>"
      ],
      "text/plain": [
       "Sub-sub-sub-method    1-ravel  2-interp  3-scale_fit  4-scale_transform  \\\n",
       "Method                                                                    \n",
       "fit                 56.342840  1.424551    18.775940           9.549141   \n",
       "fit_predict         64.214706  1.462936     0.001907          10.103941   \n",
       "predict             65.232277  2.182007     0.003099          16.474962   \n",
       "\n",
       "Sub-sub-sub-method  5-reduce_fit  6-reduce_transform  \n",
       "Method                                                \n",
       "fit                    22.963047            5.156755  \n",
       "fit_predict             0.004292            8.325100  \n",
       "predict                 0.002861           10.085106  "
      ]
     },
     "execution_count": 8,
     "metadata": {},
     "output_type": "execute_result"
    },
    {
     "data": {
      "image/png": "[encoded data removed]",
      "text/plain": [
       "<Figure size 450x270 with 1 Axes>"
      ]
     },
     "metadata": {},
     "output_type": "display_data"
    }
   ],
   "source": [
    "fig, ax, df = m.plot.timeit(group='Method', split='Sub-sub-sub-method')\n",
    "df"
   ]
  },
  {
   "cell_type": "markdown",
   "metadata": {
    "papermill": {
     "duration": 0.012164,
     "end_time": "2020-02-21T20:25:42.271203",
     "exception": false,
     "start_time": "2020-02-21T20:25:42.259039",
     "status": "completed"
    },
    "tags": []
   },
   "source": [
    "### Preprocessing details by features"
   ]
  },
  {
   "cell_type": "code",
   "execution_count": 9,
   "metadata": {
    "papermill": {
     "duration": 0.299213,
     "end_time": "2020-02-21T20:25:42.586166",
     "exception": false,
     "start_time": "2020-02-21T20:25:42.286953",
     "status": "completed"
    },
    "tags": []
   },
   "outputs": [
    {
     "data": {
      "text/html": [
       "<div>\n",
       "<style scoped>\n",
       "    .dataframe tbody tr th:only-of-type {\n",
       "        vertical-align: middle;\n",
       "    }\n",
       "\n",
       "    .dataframe tbody tr th {\n",
       "        vertical-align: top;\n",
       "    }\n",
       "\n",
       "    .dataframe thead th {\n",
       "        text-align: right;\n",
       "    }\n",
       "</style>\n",
       "<table border=\"1\" class=\"dataframe\">\n",
       "  <thead>\n",
       "    <tr style=\"text-align: right;\">\n",
       "      <th>Sub-sub-sub-method</th>\n",
       "      <th>1-ravel</th>\n",
       "      <th>2-interp</th>\n",
       "      <th>3-scale_fit</th>\n",
       "      <th>4-scale_transform</th>\n",
       "      <th>5-reduce_fit</th>\n",
       "      <th>6-reduce_transform</th>\n",
       "    </tr>\n",
       "    <tr>\n",
       "      <th>Sub-sub-method</th>\n",
       "      <th></th>\n",
       "      <th></th>\n",
       "      <th></th>\n",
       "      <th></th>\n",
       "      <th></th>\n",
       "      <th></th>\n",
       "    </tr>\n",
       "  </thead>\n",
       "  <tbody>\n",
       "    <tr>\n",
       "      <th>2-feature_salinity</th>\n",
       "      <td>0.089095</td>\n",
       "      <td>0.002167</td>\n",
       "      <td>0.007607</td>\n",
       "      <td>0.019474</td>\n",
       "      <td>0.010604</td>\n",
       "      <td>0.009804</td>\n",
       "    </tr>\n",
       "    <tr>\n",
       "      <th>2-feature_temperature</th>\n",
       "      <td>0.096695</td>\n",
       "      <td>0.002902</td>\n",
       "      <td>0.011174</td>\n",
       "      <td>0.016654</td>\n",
       "      <td>0.012366</td>\n",
       "      <td>0.013763</td>\n",
       "    </tr>\n",
       "  </tbody>\n",
       "</table>\n",
       "</div>"
      ],
      "text/plain": [
       "Sub-sub-sub-method      1-ravel  2-interp  3-scale_fit  4-scale_transform  \\\n",
       "Sub-sub-method                                                              \n",
       "2-feature_salinity     0.089095  0.002167     0.007607           0.019474   \n",
       "2-feature_temperature  0.096695  0.002902     0.011174           0.016654   \n",
       "\n",
       "Sub-sub-sub-method     5-reduce_fit  6-reduce_transform  \n",
       "Sub-sub-method                                           \n",
       "2-feature_salinity         0.010604            0.009804  \n",
       "2-feature_temperature      0.012366            0.013763  "
      ]
     },
     "execution_count": 9,
     "metadata": {},
     "output_type": "execute_result"
    },
    {
     "data": {
      "image/png": "[encoded data removed]",
      "text/plain": [
       "<Figure size 450x270 with 1 Axes>"
      ]
     },
     "metadata": {},
     "output_type": "display_data"
    }
   ],
   "source": [
    "fig, ax, df = m.plot.timeit(split='Sub-sub-sub-method', group='Sub-sub-method', unit='s')\n",
    "df"
   ]
  },
  {
   "cell_type": "code",
   "execution_count": null,
   "metadata": {},
   "outputs": [],
   "source": []
  },
  {
   "cell_type": "code",
   "execution_count": null,
   "metadata": {},
   "outputs": [],
   "source": []
  }
 ],
 "metadata": {
  "kernelspec": {
   "display_name": "Python 3",
   "language": "python",
   "name": "python3"
  },
  "language_info": {
   "codemirror_mode": {
    "name": "ipython",
    "version": 3
   },
   "file_extension": ".py",
   "mimetype": "text/x-python",
   "name": "python",
   "nbconvert_exporter": "python",
   "pygments_lexer": "ipython3",
   "version": "3.6.10"
  },
  "papermill": {
   "duration": 38.418225,
   "end_time": "2020-02-21T20:25:43.217374",
   "environment_variables": {},
   "exception": null,
   "input_path": "debug_perf.ipynb",
   "output_path": "../debug_perf.ipynb",
   "parameters": {},
   "start_time": "2020-02-21T20:25:04.799149",
   "version": "1.2.1"
  },
  "toc-showmarkdowntxt": true
 },
 "nbformat": 4,
 "nbformat_minor": 2
}
