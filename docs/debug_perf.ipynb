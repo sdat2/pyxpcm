{
 "cells": [
  {
   "cell_type": "markdown",
   "metadata": {
    "papermill": {
     "duration": 0.012022,
     "end_time": "2020-08-17T12:33:29.930385",
     "exception": false,
     "start_time": "2020-08-17T12:33:29.918363",
     "status": "completed"
    },
    "tags": [],
    "toc-hr-collapsed": false
   },
   "source": [
    "# Debugging and performances"
   ]
  },
  {
   "cell_type": "code",
   "execution_count": 1,
   "metadata": {
    "execution": {
     "iopub.execute_input": "2020-08-17T12:33:29.954066Z",
     "iopub.status.busy": "2020-08-17T12:33:29.953518Z",
     "iopub.status.idle": "2020-08-17T12:33:31.557266Z",
     "shell.execute_reply": "2020-08-17T12:33:31.557593Z"
    },
    "nbsphinx": "hidden",
    "papermill": {
     "duration": 1.618583,
     "end_time": "2020-08-17T12:33:31.557696",
     "exception": false,
     "start_time": "2020-08-17T12:33:29.939113",
     "status": "completed"
    },
    "tags": []
   },
   "outputs": [
    {
     "name": "stdout",
     "output_type": "stream",
     "text": [
      "xarray: 0.15.1, /Users/gmaze/anaconda/envs/obidam36/lib/python3.6/site-packages/xarray/__init__.py\n"
     ]
    },
    {
     "name": "stdout",
     "output_type": "stream",
     "text": [
      "pyxpcm: 0.4.1, /Users/gmaze/git/github/gmaze/pyxpcm/pyxpcm/__init__.py\n"
     ]
    }
   ],
   "source": [
    "# Hidden cell\n",
    "import os, sys\n",
    "import numpy as np\n",
    "import pandas as pd\n",
    "import xarray as xr\n",
    "print(\"xarray: %s, %s\" % (xr.__version__, xr.__file__))\n",
    "\n",
    "import matplotlib.pyplot as plt\n",
    "%matplotlib inline\n",
    "sys.path.insert(0, os.path.abspath('/Users/gmaze/git/github/gmaze/pyxpcm'))\n",
    "\n",
    "import pyxpcm\n",
    "print(\"pyxpcm: %s, %s\" % (pyxpcm.__version__, pyxpcm.__file__))"
   ]
  },
  {
   "cell_type": "markdown",
   "metadata": {
    "papermill": {
     "duration": 0.008375,
     "end_time": "2020-08-17T12:33:31.573931",
     "exception": false,
     "start_time": "2020-08-17T12:33:31.565556",
     "status": "completed"
    },
    "tags": []
   },
   "source": [
    "**Import and set-up**\n",
    "\n",
    "Import the library and toy data"
   ]
  },
  {
   "cell_type": "code",
   "execution_count": 2,
   "metadata": {
    "execution": {
     "iopub.execute_input": "2020-08-17T12:33:31.595162Z",
     "iopub.status.busy": "2020-08-17T12:33:31.594710Z",
     "iopub.status.idle": "2020-08-17T12:33:31.628505Z",
     "shell.execute_reply": "2020-08-17T12:33:31.628082Z"
    },
    "papermill": {
     "duration": 0.046332,
     "end_time": "2020-08-17T12:33:31.628585",
     "exception": false,
     "start_time": "2020-08-17T12:33:31.582253",
     "status": "completed"
    },
    "tags": []
   },
   "outputs": [],
   "source": [
    "import pyxpcm\n",
    "from pyxpcm.models import pcm\n",
    "\n",
    "# Load a dataset to work with:\n",
    "ds = pyxpcm.tutorial.open_dataset('argo').load()\n",
    "\n",
    "# Define vertical axis and features to use:\n",
    "z = np.arange(0.,-1000.,-10.)\n",
    "features_pcm = {'temperature': z, 'salinity': z}\n",
    "features_in_ds = {'temperature': 'TEMP', 'salinity': 'PSAL'}"
   ]
  },
  {
   "cell_type": "markdown",
   "metadata": {
    "papermill": {
     "duration": 0.008671,
     "end_time": "2020-08-17T12:33:31.645921",
     "exception": false,
     "start_time": "2020-08-17T12:33:31.637250",
     "status": "completed"
    },
    "tags": []
   },
   "source": [
    "## Debugging\n",
    "\n",
    "Use option ``debug`` to print log messages "
   ]
  },
  {
   "cell_type": "code",
   "execution_count": 3,
   "metadata": {
    "execution": {
     "iopub.execute_input": "2020-08-17T12:33:31.667725Z",
     "iopub.status.busy": "2020-08-17T12:33:31.667179Z",
     "iopub.status.idle": "2020-08-17T12:33:35.098896Z",
     "shell.execute_reply": "2020-08-17T12:33:35.099279Z"
    },
    "papermill": {
     "duration": 3.445029,
     "end_time": "2020-08-17T12:33:35.099413",
     "exception": false,
     "start_time": "2020-08-17T12:33:31.654384",
     "status": "completed"
    },
    "tags": []
   },
   "outputs": [
    {
     "name": "stdout",
     "output_type": "stream",
     "text": [
      "> Start preprocessing for action 'fit'\n"
     ]
    },
    {
     "name": "stdout",
     "output_type": "stream",
     "text": [
      "\n",
      "\t> Preprocessing xarray dataset 'TEMP' as PCM feature 'temperature'\n",
      "\t X RAVELED with success [<class 'xarray.core.dataarray.DataArray'>, <class 'dask.array.core.Array'>, ((7560,), (282,))]\n",
      "\t\tOutput axis is in the input axis, not need to interpolate, simple intersection\n",
      "\t X INTERPOLATED with success [<class 'xarray.core.dataarray.DataArray'>, <class 'dask.array.core.Array'>, ((7560,), (100,))]\n",
      "\t X SCALED with success) [<class 'xarray.core.dataarray.DataArray'>, <class 'numpy.ndarray'>, None]\n",
      "\t X REDUCED with success) [<class 'xarray.core.dataarray.DataArray'>, <class 'numpy.ndarray'>, None]\n",
      "\ttemperature pre-processed with success,  [<class 'xarray.core.dataarray.DataArray'>, <class 'numpy.ndarray'>, None]\n",
      "\tHomogenisation for fit of temperature\n",
      "\n",
      "\t> Preprocessing xarray dataset 'PSAL' as PCM feature 'salinity'\n"
     ]
    },
    {
     "name": "stdout",
     "output_type": "stream",
     "text": [
      "\t X RAVELED with success [<class 'xarray.core.dataarray.DataArray'>, <class 'dask.array.core.Array'>, ((7560,), (282,))]\n",
      "\t\tOutput axis is in the input axis, not need to interpolate, simple intersection\n",
      "\t X INTERPOLATED with success [<class 'xarray.core.dataarray.DataArray'>, <class 'dask.array.core.Array'>, ((7560,), (100,))]\n",
      "\t X SCALED with success) [<class 'xarray.core.dataarray.DataArray'>, <class 'numpy.ndarray'>, None]\n",
      "\t X REDUCED with success) [<class 'xarray.core.dataarray.DataArray'>, <class 'numpy.ndarray'>, None]\n",
      "\tsalinity pre-processed with success,  [<class 'xarray.core.dataarray.DataArray'>, <class 'numpy.ndarray'>, None]\n",
      "\tHomogenisation for fit of salinity\n",
      "\tFeatures array shape and type for xarray: (7560, 30) <class 'numpy.ndarray'> <class 'memoryview'>\n",
      "> Preprocessing done, working with final X (<class 'xarray.core.dataarray.DataArray'>) array of shape: (7560, 30)  and sampling dimensions: ['N_PROF']\n"
     ]
    }
   ],
   "source": [
    "# Instantiate a new PCM:\n",
    "m = pcm(K=8, features=features_pcm, debug=True)\n",
    "\n",
    "# Fit with log:\n",
    "m.fit(ds, features=features_in_ds);"
   ]
  },
  {
   "cell_type": "markdown",
   "metadata": {
    "papermill": {
     "duration": 0.01343,
     "end_time": "2020-08-17T12:33:35.125563",
     "exception": false,
     "start_time": "2020-08-17T12:33:35.112133",
     "status": "completed"
    },
    "tags": [],
    "toc-hr-collapsed": true
   },
   "source": [
    "## Performance / Optimisation\n",
    "\n",
    "Use ``timeit`` and ``timeit_verb`` to compute computation time of PCM operations\n",
    "\n",
    "Times are accessible as a pandas Dataframe in ``timeit`` pyXpcm instance property.\n",
    "\n",
    "The pyXpcm ``m.plot.timeit()`` plot method allows for a simple visualisation of times."
   ]
  },
  {
   "cell_type": "markdown",
   "metadata": {
    "papermill": {
     "duration": 0.01413,
     "end_time": "2020-08-17T12:33:35.152906",
     "exception": false,
     "start_time": "2020-08-17T12:33:35.138776",
     "status": "completed"
    },
    "tags": []
   },
   "source": [
    "### Time readings during execution"
   ]
  },
  {
   "cell_type": "code",
   "execution_count": 4,
   "metadata": {
    "execution": {
     "iopub.execute_input": "2020-08-17T12:33:35.182898Z",
     "iopub.status.busy": "2020-08-17T12:33:35.181994Z",
     "iopub.status.idle": "2020-08-17T12:33:37.626504Z",
     "shell.execute_reply": "2020-08-17T12:33:37.625906Z"
    },
    "papermill": {
     "duration": 2.462328,
     "end_time": "2020-08-17T12:33:37.626631",
     "exception": false,
     "start_time": "2020-08-17T12:33:35.164303",
     "status": "completed"
    },
    "tags": []
   },
   "outputs": [
    {
     "name": "stdout",
     "output_type": "stream",
     "text": [
      "  fit.1-preprocess.1-mask: 26 ms\n",
      "  fit.1-preprocess.2-feature_temperature.1-ravel: 48 ms\n",
      "  fit.1-preprocess.2-feature_temperature.2-interp: 2 ms\n",
      "  fit.1-preprocess.2-feature_temperature.3-scale_fit: 14 ms\n",
      "  fit.1-preprocess.2-feature_temperature.4-scale_transform: 8 ms\n",
      "  fit.1-preprocess.2-feature_temperature.5-reduce_fit: 22 ms\n",
      "  fit.1-preprocess.2-feature_temperature.6-reduce_transform: 5 ms\n",
      "  fit.1-preprocess.2-feature_temperature.total: 103 ms\n",
      "  fit.1-preprocess: 103 ms\n",
      "  fit.1-preprocess.3-homogeniser: 1 ms\n",
      "  fit.1-preprocess.2-feature_salinity.1-ravel: 42 ms\n",
      "  fit.1-preprocess.2-feature_salinity.2-interp: 1 ms\n",
      "  fit.1-preprocess.2-feature_salinity.3-scale_fit: 12 ms\n",
      "  fit.1-preprocess.2-feature_salinity.4-scale_transform: 10 ms\n",
      "  fit.1-preprocess.2-feature_salinity.5-reduce_fit: 14 ms\n",
      "  fit.1-preprocess.2-feature_salinity.6-reduce_transform: 3 ms\n",
      "  fit.1-preprocess.2-feature_salinity.total: 85 ms\n",
      "  fit.1-preprocess: 85 ms\n",
      "  fit.1-preprocess.3-homogeniser: 1 ms\n",
      "  fit.1-preprocess.4-xarray: 1 ms\n",
      "  fit.1-preprocess: 225 ms\n"
     ]
    },
    {
     "name": "stdout",
     "output_type": "stream",
     "text": [
      "  fit.fit: 2206 ms\n",
      "  fit.score: 10 ms\n",
      "  fit: 2442 ms\n"
     ]
    }
   ],
   "source": [
    "# Create a PCM and execute methods:\n",
    "m = pcm(K=8, features=features_pcm, timeit=True, timeit_verb=1)\n",
    "m.fit(ds, features=features_in_ds);"
   ]
  },
  {
   "cell_type": "markdown",
   "metadata": {
    "papermill": {
     "duration": 0.015261,
     "end_time": "2020-08-17T12:33:37.656849",
     "exception": false,
     "start_time": "2020-08-17T12:33:37.641588",
     "status": "completed"
    },
    "tags": []
   },
   "source": [
    "### A posteriori Execution time analysis"
   ]
  },
  {
   "cell_type": "code",
   "execution_count": 5,
   "metadata": {
    "execution": {
     "iopub.execute_input": "2020-08-17T12:33:37.684881Z",
     "iopub.status.busy": "2020-08-17T12:33:37.684263Z",
     "iopub.status.idle": "2020-08-17T12:33:40.002278Z",
     "shell.execute_reply": "2020-08-17T12:33:40.002662Z"
    },
    "papermill": {
     "duration": 2.333395,
     "end_time": "2020-08-17T12:33:40.002764",
     "exception": false,
     "start_time": "2020-08-17T12:33:37.669369",
     "status": "completed"
    },
    "tags": []
   },
   "outputs": [],
   "source": [
    "# Create a PCM and execute methods:\n",
    "m = pcm(K=8, features=features_pcm, timeit=True, timeit_verb=0)\n",
    "m.fit(ds, features=features_in_ds);\n",
    "m.predict(ds, features=features_in_ds);\n",
    "m.fit_predict(ds, features=features_in_ds);"
   ]
  },
  {
   "cell_type": "raw",
   "metadata": {
    "papermill": {
     "duration": 0.011671,
     "end_time": "2020-08-17T12:33:40.025877",
     "exception": false,
     "start_time": "2020-08-17T12:33:40.014206",
     "status": "completed"
    },
    "raw_mimetype": "text/restructuredtext",
    "tags": []
   },
   "source": [
    "Execution times are accessible through a dataframe with the :py:attr:`pyxpcm.pcm.timeit` property"
   ]
  },
  {
   "cell_type": "code",
   "execution_count": 6,
   "metadata": {
    "execution": {
     "iopub.execute_input": "2020-08-17T12:33:40.068123Z",
     "iopub.status.busy": "2020-08-17T12:33:40.061136Z",
     "iopub.status.idle": "2020-08-17T12:33:40.070931Z",
     "shell.execute_reply": "2020-08-17T12:33:40.071366Z"
    },
    "papermill": {
     "duration": 0.034465,
     "end_time": "2020-08-17T12:33:40.071476",
     "exception": false,
     "start_time": "2020-08-17T12:33:40.037011",
     "status": "completed"
    },
    "tags": []
   },
   "outputs": [
    {
     "data": {
      "text/plain": [
       "Method       Sub-method    Sub-sub-method         Sub-sub-sub-method\n",
       "fit          1-preprocess  1-mask                 total                  19.836187\n",
       "                           2-feature_temperature  1-ravel                32.550097\n",
       "                                                  2-interp                0.828981\n",
       "                                                  3-scale_fit             9.926319\n",
       "                                                  4-scale_transform       5.232811\n",
       "                                                                           ...    \n",
       "fit_predict  fit           total                                        737.503052\n",
       "             score         total                                          8.855104\n",
       "             predict       total                                          9.073734\n",
       "             xarray        total                                          8.368969\n",
       "             total                                                      882.753134\n",
       "Length: 66, dtype: float64"
      ]
     },
     "execution_count": 6,
     "metadata": {},
     "output_type": "execute_result"
    }
   ],
   "source": [
    "m.timeit"
   ]
  },
  {
   "cell_type": "markdown",
   "metadata": {
    "papermill": {
     "duration": 0.011986,
     "end_time": "2020-08-17T12:33:40.096665",
     "exception": false,
     "start_time": "2020-08-17T12:33:40.084679",
     "status": "completed"
    },
    "raw_mimetype": "-",
    "tags": []
   },
   "source": [
    "## Visualisation help"
   ]
  },
  {
   "cell_type": "raw",
   "metadata": {
    "papermill": {
     "duration": 0.012625,
     "end_time": "2020-08-17T12:33:40.122570",
     "exception": false,
     "start_time": "2020-08-17T12:33:40.109945",
     "status": "completed"
    },
    "raw_mimetype": "text/restructuredtext",
    "tags": []
   },
   "source": [
    "To facilitate your analysis of execution times, you can use :meth:`pyxpcm.plot.timeit`."
   ]
  },
  {
   "cell_type": "markdown",
   "metadata": {
    "papermill": {
     "duration": 0.012903,
     "end_time": "2020-08-17T12:33:40.147219",
     "exception": false,
     "start_time": "2020-08-17T12:33:40.134316",
     "status": "completed"
    },
    "tags": []
   },
   "source": [
    "### Main steps by method"
   ]
  },
  {
   "cell_type": "code",
   "execution_count": 7,
   "metadata": {
    "execution": {
     "iopub.execute_input": "2020-08-17T12:33:40.181822Z",
     "iopub.status.busy": "2020-08-17T12:33:40.179412Z",
     "iopub.status.idle": "2020-08-17T12:33:40.471033Z",
     "shell.execute_reply": "2020-08-17T12:33:40.470671Z"
    },
    "papermill": {
     "duration": 0.311942,
     "end_time": "2020-08-17T12:33:40.471113",
     "exception": false,
     "start_time": "2020-08-17T12:33:40.159171",
     "status": "completed"
    },
    "tags": []
   },
   "outputs": [
    {
     "data": {
      "text/html": [
       "<div>\n",
       "<style scoped>\n",
       "    .dataframe tbody tr th:only-of-type {\n",
       "        vertical-align: middle;\n",
       "    }\n",
       "\n",
       "    .dataframe tbody tr th {\n",
       "        vertical-align: top;\n",
       "    }\n",
       "\n",
       "    .dataframe thead th {\n",
       "        text-align: right;\n",
       "    }\n",
       "</style>\n",
       "<table border=\"1\" class=\"dataframe\">\n",
       "  <thead>\n",
       "    <tr style=\"text-align: right;\">\n",
       "      <th>Sub-method</th>\n",
       "      <th>1-preprocess</th>\n",
       "      <th>fit</th>\n",
       "      <th>predict</th>\n",
       "      <th>score</th>\n",
       "      <th>xarray</th>\n",
       "    </tr>\n",
       "    <tr>\n",
       "      <th>Method</th>\n",
       "      <th></th>\n",
       "      <th></th>\n",
       "      <th></th>\n",
       "      <th></th>\n",
       "      <th></th>\n",
       "    </tr>\n",
       "  </thead>\n",
       "  <tbody>\n",
       "    <tr>\n",
       "      <th>fit</th>\n",
       "      <td>556.826353</td>\n",
       "      <td>1123.903990</td>\n",
       "      <td>NaN</td>\n",
       "      <td>10.521889</td>\n",
       "      <td>NaN</td>\n",
       "    </tr>\n",
       "    <tr>\n",
       "      <th>fit_predict</th>\n",
       "      <td>416.832924</td>\n",
       "      <td>737.503052</td>\n",
       "      <td>9.073734</td>\n",
       "      <td>8.855104</td>\n",
       "      <td>8.368969</td>\n",
       "    </tr>\n",
       "    <tr>\n",
       "      <th>predict</th>\n",
       "      <td>402.269125</td>\n",
       "      <td>NaN</td>\n",
       "      <td>9.886980</td>\n",
       "      <td>9.831905</td>\n",
       "      <td>8.663177</td>\n",
       "    </tr>\n",
       "  </tbody>\n",
       "</table>\n",
       "</div>"
      ],
      "text/plain": [
       "Sub-method   1-preprocess          fit   predict      score    xarray\n",
       "Method                                                               \n",
       "fit            556.826353  1123.903990       NaN  10.521889       NaN\n",
       "fit_predict    416.832924   737.503052  9.073734   8.855104  8.368969\n",
       "predict        402.269125          NaN  9.886980   9.831905  8.663177"
      ]
     },
     "execution_count": 7,
     "metadata": {},
     "output_type": "execute_result"
    },
    {
     "data": {
      "image/png": "[encoded data removed]",
      "text/plain": [
       "<Figure size 450x270 with 1 Axes>"
      ]
     },
     "metadata": {},
     "output_type": "display_data"
    }
   ],
   "source": [
    "fig, ax, df = m.plot.timeit(group='Method', split='Sub-method', style='darkgrid') # Default group/split\n",
    "df"
   ]
  },
  {
   "cell_type": "markdown",
   "metadata": {
    "papermill": {
     "duration": 0.011214,
     "end_time": "2020-08-17T12:33:40.492832",
     "exception": false,
     "start_time": "2020-08-17T12:33:40.481618",
     "status": "completed"
    },
    "tags": []
   },
   "source": [
    "### Preprocessing main steps by method"
   ]
  },
  {
   "cell_type": "code",
   "execution_count": 8,
   "metadata": {
    "execution": {
     "iopub.execute_input": "2020-08-17T12:33:40.532192Z",
     "iopub.status.busy": "2020-08-17T12:33:40.526499Z",
     "iopub.status.idle": "2020-08-17T12:33:40.774251Z",
     "shell.execute_reply": "2020-08-17T12:33:40.773801Z"
    },
    "papermill": {
     "duration": 0.268981,
     "end_time": "2020-08-17T12:33:40.774333",
     "exception": false,
     "start_time": "2020-08-17T12:33:40.505352",
     "status": "completed"
    },
    "tags": []
   },
   "outputs": [
    {
     "data": {
      "text/html": [
       "<div>\n",
       "<style scoped>\n",
       "    .dataframe tbody tr th:only-of-type {\n",
       "        vertical-align: middle;\n",
       "    }\n",
       "\n",
       "    .dataframe tbody tr th {\n",
       "        vertical-align: top;\n",
       "    }\n",
       "\n",
       "    .dataframe thead th {\n",
       "        text-align: right;\n",
       "    }\n",
       "</style>\n",
       "<table border=\"1\" class=\"dataframe\">\n",
       "  <thead>\n",
       "    <tr style=\"text-align: right;\">\n",
       "      <th>Sub-sub-method</th>\n",
       "      <th>1-mask</th>\n",
       "      <th>2-feature_salinity</th>\n",
       "      <th>2-feature_temperature</th>\n",
       "      <th>3-homogeniser</th>\n",
       "      <th>4-xarray</th>\n",
       "    </tr>\n",
       "    <tr>\n",
       "      <th>Method</th>\n",
       "      <th></th>\n",
       "      <th></th>\n",
       "      <th></th>\n",
       "      <th></th>\n",
       "      <th></th>\n",
       "    </tr>\n",
       "  </thead>\n",
       "  <tbody>\n",
       "    <tr>\n",
       "      <th>fit</th>\n",
       "      <td>19.836187</td>\n",
       "      <td>122.781515</td>\n",
       "      <td>130.059242</td>\n",
       "      <td>2.494097</td>\n",
       "      <td>2.145052</td>\n",
       "    </tr>\n",
       "    <tr>\n",
       "      <th>fit_predict</th>\n",
       "      <td>20.085096</td>\n",
       "      <td>93.130827</td>\n",
       "      <td>89.278936</td>\n",
       "      <td>3.419876</td>\n",
       "      <td>1.243114</td>\n",
       "    </tr>\n",
       "    <tr>\n",
       "      <th>predict</th>\n",
       "      <td>24.972916</td>\n",
       "      <td>73.968887</td>\n",
       "      <td>98.288298</td>\n",
       "      <td>1.749992</td>\n",
       "      <td>1.240015</td>\n",
       "    </tr>\n",
       "  </tbody>\n",
       "</table>\n",
       "</div>"
      ],
      "text/plain": [
       "Sub-sub-method     1-mask  2-feature_salinity  2-feature_temperature  \\\n",
       "Method                                                                 \n",
       "fit             19.836187          122.781515             130.059242   \n",
       "fit_predict     20.085096           93.130827              89.278936   \n",
       "predict         24.972916           73.968887              98.288298   \n",
       "\n",
       "Sub-sub-method  3-homogeniser  4-xarray  \n",
       "Method                                   \n",
       "fit                  2.494097  2.145052  \n",
       "fit_predict          3.419876  1.243114  \n",
       "predict              1.749992  1.240015  "
      ]
     },
     "execution_count": 8,
     "metadata": {},
     "output_type": "execute_result"
    },
    {
     "data": {
      "image/png": "[encoded data removed]",
      "text/plain": [
       "<Figure size 450x270 with 1 Axes>"
      ]
     },
     "metadata": {},
     "output_type": "display_data"
    }
   ],
   "source": [
    "fig, ax, df = m.plot.timeit(group='Method', split='Sub-sub-method')\n",
    "df"
   ]
  },
  {
   "cell_type": "markdown",
   "metadata": {
    "papermill": {
     "duration": 0.013454,
     "end_time": "2020-08-17T12:33:40.801052",
     "exception": false,
     "start_time": "2020-08-17T12:33:40.787598",
     "status": "completed"
    },
    "tags": []
   },
   "source": [
    "### Preprocessing details by method"
   ]
  },
  {
   "cell_type": "code",
   "execution_count": 9,
   "metadata": {
    "execution": {
     "iopub.execute_input": "2020-08-17T12:33:40.830188Z",
     "iopub.status.busy": "2020-08-17T12:33:40.829768Z",
     "iopub.status.idle": "2020-08-17T12:33:41.119555Z",
     "shell.execute_reply": "2020-08-17T12:33:41.120090Z"
    },
    "papermill": {
     "duration": 0.306482,
     "end_time": "2020-08-17T12:33:41.120238",
     "exception": false,
     "start_time": "2020-08-17T12:33:40.813756",
     "status": "completed"
    },
    "tags": []
   },
   "outputs": [
    {
     "data": {
      "text/html": [
       "<div>\n",
       "<style scoped>\n",
       "    .dataframe tbody tr th:only-of-type {\n",
       "        vertical-align: middle;\n",
       "    }\n",
       "\n",
       "    .dataframe tbody tr th {\n",
       "        vertical-align: top;\n",
       "    }\n",
       "\n",
       "    .dataframe thead th {\n",
       "        text-align: right;\n",
       "    }\n",
       "</style>\n",
       "<table border=\"1\" class=\"dataframe\">\n",
       "  <thead>\n",
       "    <tr style=\"text-align: right;\">\n",
       "      <th>Sub-sub-sub-method</th>\n",
       "      <th>1-ravel</th>\n",
       "      <th>2-interp</th>\n",
       "      <th>3-scale_fit</th>\n",
       "      <th>4-scale_transform</th>\n",
       "      <th>5-reduce_fit</th>\n",
       "      <th>6-reduce_transform</th>\n",
       "    </tr>\n",
       "    <tr>\n",
       "      <th>Method</th>\n",
       "      <th></th>\n",
       "      <th></th>\n",
       "      <th></th>\n",
       "      <th></th>\n",
       "      <th></th>\n",
       "      <th></th>\n",
       "    </tr>\n",
       "  </thead>\n",
       "  <tbody>\n",
       "    <tr>\n",
       "      <th>fit</th>\n",
       "      <td>63.939333</td>\n",
       "      <td>1.705170</td>\n",
       "      <td>18.492460</td>\n",
       "      <td>10.242701</td>\n",
       "      <td>25.922775</td>\n",
       "      <td>5.970001</td>\n",
       "    </tr>\n",
       "    <tr>\n",
       "      <th>fit_predict</th>\n",
       "      <td>67.147017</td>\n",
       "      <td>1.942873</td>\n",
       "      <td>0.005245</td>\n",
       "      <td>12.181759</td>\n",
       "      <td>0.003815</td>\n",
       "      <td>9.781122</td>\n",
       "    </tr>\n",
       "    <tr>\n",
       "      <th>predict</th>\n",
       "      <td>67.429066</td>\n",
       "      <td>1.815319</td>\n",
       "      <td>0.004053</td>\n",
       "      <td>10.471821</td>\n",
       "      <td>0.003099</td>\n",
       "      <td>6.281853</td>\n",
       "    </tr>\n",
       "  </tbody>\n",
       "</table>\n",
       "</div>"
      ],
      "text/plain": [
       "Sub-sub-sub-method    1-ravel  2-interp  3-scale_fit  4-scale_transform  \\\n",
       "Method                                                                    \n",
       "fit                 63.939333  1.705170    18.492460          10.242701   \n",
       "fit_predict         67.147017  1.942873     0.005245          12.181759   \n",
       "predict             67.429066  1.815319     0.004053          10.471821   \n",
       "\n",
       "Sub-sub-sub-method  5-reduce_fit  6-reduce_transform  \n",
       "Method                                                \n",
       "fit                    25.922775            5.970001  \n",
       "fit_predict             0.003815            9.781122  \n",
       "predict                 0.003099            6.281853  "
      ]
     },
     "execution_count": 9,
     "metadata": {},
     "output_type": "execute_result"
    },
    {
     "data": {
      "image/png": "[encoded data removed]",
      "text/plain": [
       "<Figure size 450x270 with 1 Axes>"
      ]
     },
     "metadata": {},
     "output_type": "display_data"
    }
   ],
   "source": [
    "fig, ax, df = m.plot.timeit(group='Method', split='Sub-sub-sub-method')\n",
    "df"
   ]
  },
  {
   "cell_type": "markdown",
   "metadata": {
    "papermill": {
     "duration": 0.020368,
     "end_time": "2020-08-17T12:33:41.157801",
     "exception": false,
     "start_time": "2020-08-17T12:33:41.137433",
     "status": "completed"
    },
    "tags": []
   },
   "source": [
    "### Preprocessing details by features"
   ]
  },
  {
   "cell_type": "code",
   "execution_count": 10,
   "metadata": {
    "execution": {
     "iopub.execute_input": "2020-08-17T12:33:41.195611Z",
     "iopub.status.busy": "2020-08-17T12:33:41.195163Z",
     "iopub.status.idle": "2020-08-17T12:33:41.448037Z",
     "shell.execute_reply": "2020-08-17T12:33:41.447669Z"
    },
    "papermill": {
     "duration": 0.273886,
     "end_time": "2020-08-17T12:33:41.448107",
     "exception": false,
     "start_time": "2020-08-17T12:33:41.174221",
     "status": "completed"
    },
    "tags": []
   },
   "outputs": [
    {
     "data": {
      "text/html": [
       "<div>\n",
       "<style scoped>\n",
       "    .dataframe tbody tr th:only-of-type {\n",
       "        vertical-align: middle;\n",
       "    }\n",
       "\n",
       "    .dataframe tbody tr th {\n",
       "        vertical-align: top;\n",
       "    }\n",
       "\n",
       "    .dataframe thead th {\n",
       "        text-align: right;\n",
       "    }\n",
       "</style>\n",
       "<table border=\"1\" class=\"dataframe\">\n",
       "  <thead>\n",
       "    <tr style=\"text-align: right;\">\n",
       "      <th>Sub-sub-sub-method</th>\n",
       "      <th>1-ravel</th>\n",
       "      <th>2-interp</th>\n",
       "      <th>3-scale_fit</th>\n",
       "      <th>4-scale_transform</th>\n",
       "      <th>5-reduce_fit</th>\n",
       "      <th>6-reduce_transform</th>\n",
       "    </tr>\n",
       "    <tr>\n",
       "      <th>Sub-sub-method</th>\n",
       "      <th></th>\n",
       "      <th></th>\n",
       "      <th></th>\n",
       "      <th></th>\n",
       "      <th></th>\n",
       "      <th></th>\n",
       "    </tr>\n",
       "  </thead>\n",
       "  <tbody>\n",
       "    <tr>\n",
       "      <th>2-feature_salinity</th>\n",
       "      <td>0.093312</td>\n",
       "      <td>0.002782</td>\n",
       "      <td>0.008571</td>\n",
       "      <td>0.017127</td>\n",
       "      <td>0.012878</td>\n",
       "      <td>0.010059</td>\n",
       "    </tr>\n",
       "    <tr>\n",
       "      <th>2-feature_temperature</th>\n",
       "      <td>0.105203</td>\n",
       "      <td>0.002681</td>\n",
       "      <td>0.009930</td>\n",
       "      <td>0.015770</td>\n",
       "      <td>0.013052</td>\n",
       "      <td>0.011974</td>\n",
       "    </tr>\n",
       "  </tbody>\n",
       "</table>\n",
       "</div>"
      ],
      "text/plain": [
       "Sub-sub-sub-method      1-ravel  2-interp  3-scale_fit  4-scale_transform  \\\n",
       "Sub-sub-method                                                              \n",
       "2-feature_salinity     0.093312  0.002782     0.008571           0.017127   \n",
       "2-feature_temperature  0.105203  0.002681     0.009930           0.015770   \n",
       "\n",
       "Sub-sub-sub-method     5-reduce_fit  6-reduce_transform  \n",
       "Sub-sub-method                                           \n",
       "2-feature_salinity         0.012878            0.010059  \n",
       "2-feature_temperature      0.013052            0.011974  "
      ]
     },
     "execution_count": 10,
     "metadata": {},
     "output_type": "execute_result"
    },
    {
     "data": {
      "image/png": "[encoded data removed]",
      "text/plain": [
       "<Figure size 450x270 with 1 Axes>"
      ]
     },
     "metadata": {},
     "output_type": "display_data"
    }
   ],
   "source": [
    "fig, ax, df = m.plot.timeit(split='Sub-sub-sub-method', group='Sub-sub-method', unit='s')\n",
    "df"
   ]
  }
 ],
 "metadata": {
  "kernelspec": {
   "display_name": "obidam36",
   "language": "python",
   "name": "obidam36"
  },
  "language_info": {
   "codemirror_mode": {
    "name": "ipython",
    "version": 3
   },
   "file_extension": ".py",
   "mimetype": "text/x-python",
   "name": "python",
   "nbconvert_exporter": "python",
   "pygments_lexer": "ipython3",
   "version": "3.6.10"
  },
  "papermill": {
   "duration": 12.816519,
   "end_time": "2020-08-17T12:33:41.972574",
   "environment_variables": {},
   "exception": null,
   "input_path": "debug_perf.ipynb",
   "output_path": "../debug_perf.ipynb",
   "parameters": {},
   "start_time": "2020-08-17T12:33:29.156055",
   "version": "2.1.1"
  },
  "toc-showmarkdowntxt": true
 },
 "nbformat": 4,
 "nbformat_minor": 2
}