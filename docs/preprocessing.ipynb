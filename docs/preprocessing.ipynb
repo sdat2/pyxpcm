{
 "cells": [
  {
   "cell_type": "markdown",
   "metadata": {
    "papermill": {
     "duration": 0.012205,
     "end_time": "2020-08-17T12:32:52.864911",
     "exception": false,
     "start_time": "2020-08-17T12:32:52.852706",
     "status": "completed"
    },
    "tags": []
   },
   "source": [
    "# Features preprocessing explained"
   ]
  },
  {
   "cell_type": "raw",
   "metadata": {
    "papermill": {
     "duration": 0.006488,
     "end_time": "2020-08-17T12:32:52.879365",
     "exception": false,
     "start_time": "2020-08-17T12:32:52.872877",
     "status": "completed"
    },
    "raw_mimetype": "text/restructuredtext",
    "tags": []
   },
   "source": [
    ".. _preprocessing:"
   ]
  },
  {
   "cell_type": "code",
   "execution_count": 1,
   "metadata": {
    "execution": {
     "iopub.execute_input": "2020-08-17T12:32:52.900830Z",
     "iopub.status.busy": "2020-08-17T12:32:52.899977Z",
     "iopub.status.idle": "2020-08-17T12:32:55.166820Z",
     "shell.execute_reply": "2020-08-17T12:32:55.166232Z"
    },
    "nbsphinx": "hidden",
    "papermill": {
     "duration": 2.281268,
     "end_time": "2020-08-17T12:32:55.166910",
     "exception": false,
     "start_time": "2020-08-17T12:32:52.885642",
     "status": "completed"
    },
    "tags": []
   },
   "outputs": [],
   "source": [
    "# Hidden notebook set-up\n",
    "\n",
    "import os, sys\n",
    "import numpy as np\n",
    "import pandas as pd\n",
    "import xarray as xr\n",
    "import matplotlib.pyplot as plt\n",
    "%matplotlib inline\n",
    "sys.path.insert(0, os.path.abspath('/Users/gmaze/git/github/gmaze/pyxpcm'))\n",
    "\n",
    "import pyxpcm\n",
    "from pyxpcm.models import pcm\n",
    "\n",
    "import seaborn as sns\n",
    "import cartopy.crs as ccrs\n",
    "import cartopy.feature as cfeature\n",
    "import matplotlib.ticker as mticker\n",
    "import matplotlib as mpl\n",
    "\n",
    "# Load sample data:\n",
    "ds = pyxpcm.tutorial.open_dataset('isas_snapshot').load()\n",
    "\n",
    "# Define vertical axis and features to use:\n",
    "z = ds['depth'].where(ds['depth']>=-1200, drop=True)\n",
    "features_pcm = {'TEMP': z, 'TEMP': z}\n",
    "\n",
    "m = pcm(K=3, features=features_pcm)"
   ]
  },
  {
   "cell_type": "raw",
   "metadata": {
    "papermill": {
     "duration": 0.006769,
     "end_time": "2020-08-17T12:32:55.181096",
     "exception": false,
     "start_time": "2020-08-17T12:32:55.174327",
     "status": "completed"
    },
    "raw_mimetype": "text/restructuredtext",
    "tags": []
   },
   "source": [
    ".. note::\n",
    "\n",
    "  **pyXpcm** performs automatically all the data preprocessing for you. You should not have to manipulate your data before being able to fit or classify. This page is an explanation of the preprocessing steps performed under the hood by **pyXpcm**.\n",
    "\n",
    "The Profile Classification Model (PCM) requires data to be preprocessed in order to match the model vertical axis, to scale feature dimensions with each others and to reduce the dimensionality of the problem. Preprocessing is done internally by **pyXpcm**. Each step can be parameterised.\n",
    "\n",
    "The PCM preprocessing operations are organised into 4 steps:\n",
    "\n",
    ".. image:: _static/Preprocessing_pipeline_2lines.png\n",
    "   :width: 100%\n",
    "   :align: center"
   ]
  },
  {
   "cell_type": "markdown",
   "metadata": {
    "papermill": {
     "duration": 0.007307,
     "end_time": "2020-08-17T12:32:55.195199",
     "exception": false,
     "start_time": "2020-08-17T12:32:55.187892",
     "status": "completed"
    },
    "tags": []
   },
   "source": [
    "## Stack"
   ]
  },
  {
   "cell_type": "markdown",
   "metadata": {
    "papermill": {
     "duration": 0.00696,
     "end_time": "2020-08-17T12:32:55.209210",
     "exception": false,
     "start_time": "2020-08-17T12:32:55.202250",
     "status": "completed"
    },
    "tags": []
   },
   "source": [
    "This step mask, extract, flatten and transform any ND-array set of feature variables (eg: temperature, salinity) into a plain 2D-array collection of vertical profiles usable for machine learning methods."
   ]
  },
  {
   "cell_type": "markdown",
   "metadata": {
    "papermill": {
     "duration": 0.007128,
     "end_time": "2020-08-17T12:32:55.223523",
     "exception": false,
     "start_time": "2020-08-17T12:32:55.216395",
     "status": "completed"
    },
    "tags": [],
    "toc-hr-collapsed": false
   },
   "source": [
    "### Mask"
   ]
  },
  {
   "cell_type": "raw",
   "metadata": {
    "papermill": {
     "duration": 0.006611,
     "end_time": "2020-08-17T12:32:55.237994",
     "exception": false,
     "start_time": "2020-08-17T12:32:55.231383",
     "status": "completed"
    },
    "raw_mimetype": "text/restructuredtext",
    "tags": []
   },
   "source": [
    "This step computes a mask of the input data that will reject all profiles that are full of nans over the depth range of feature vertical axis. This ensure that all feature variables will be successfully retrieved to fill in the plain 2D-array collection of profiles.\n",
    "\n",
    "This operation is conducted by :meth:`pyxpcm.xarray.pyXpcmDataSetAccessor.mask`, so that the mask can be computed (and plotted) this way:"
   ]
  },
  {
   "cell_type": "code",
   "execution_count": 2,
   "metadata": {
    "execution": {
     "iopub.execute_input": "2020-08-17T12:32:55.271294Z",
     "iopub.status.busy": "2020-08-17T12:32:55.270749Z",
     "iopub.status.idle": "2020-08-17T12:32:55.273242Z",
     "shell.execute_reply": "2020-08-17T12:32:55.272804Z"
    },
    "papermill": {
     "duration": 0.02767,
     "end_time": "2020-08-17T12:32:55.273316",
     "exception": false,
     "start_time": "2020-08-17T12:32:55.245646",
     "status": "completed"
    },
    "raw_mimetype": "text/restructuredtext",
    "tags": []
   },
   "outputs": [
    {
     "name": "stdout",
     "output_type": "stream",
     "text": [
      "<xarray.DataArray 'pcm_MASK' (latitude: 53, longitude: 61)>\n",
      "dask.array<eq, shape=(53, 61), dtype=bool, chunksize=(53, 61), chunktype=numpy.ndarray>\n",
      "Coordinates:\n",
      "  * latitude   (latitude) float32 30.023445 30.455408 ... 49.41288 49.737103\n",
      "  * longitude  (longitude) float32 -70.0 -69.5 -69.0 -68.5 ... -41.0 -40.5 -40.0\n"
     ]
    }
   ],
   "source": [
    "mask = ds.pyxpcm.mask(m)\n",
    "print(mask)"
   ]
  },
  {
   "cell_type": "code",
   "execution_count": 3,
   "metadata": {
    "execution": {
     "iopub.execute_input": "2020-08-17T12:32:55.294691Z",
     "iopub.status.busy": "2020-08-17T12:32:55.294222Z",
     "iopub.status.idle": "2020-08-17T12:32:55.527398Z",
     "shell.execute_reply": "2020-08-17T12:32:55.526915Z"
    },
    "papermill": {
     "duration": 0.246561,
     "end_time": "2020-08-17T12:32:55.527524",
     "exception": false,
     "start_time": "2020-08-17T12:32:55.280963",
     "status": "completed"
    },
    "raw_mimetype": "text/restructuredtext",
    "tags": []
   },
   "outputs": [
    {
     "data": {
      "image/png": "[encoded data removed]",
      "text/plain": [
       "<Figure size 432x288 with 2 Axes>"
      ]
     },
     "metadata": {
      "needs_background": "light"
     },
     "output_type": "display_data"
    }
   ],
   "source": [
    "mask.plot();"
   ]
  },
  {
   "cell_type": "markdown",
   "metadata": {
    "papermill": {
     "duration": 0.009866,
     "end_time": "2020-08-17T12:32:55.546332",
     "exception": false,
     "start_time": "2020-08-17T12:32:55.536466",
     "status": "completed"
    },
    "tags": []
   },
   "source": [
    "### Ravel"
   ]
  },
  {
   "cell_type": "raw",
   "metadata": {
    "papermill": {
     "duration": 0.00998,
     "end_time": "2020-08-17T12:32:55.564812",
     "exception": false,
     "start_time": "2020-08-17T12:32:55.554832",
     "status": "completed"
    },
    "raw_mimetype": "text/restructuredtext",
    "tags": []
   },
   "source": [
    "For ND-array to be used as a feature, it has to be ravelled, flatten, along the N-1 dimensions that are not the vertical one. This operation will thus transform any ND-array into a 2D-array (``sampling`` and ``vertical_axis`` dimensions) and additionnaly drop profiles according to the PCM mask determined above.\n",
    "\n",
    "This operation is conducted by :meth:`pyxpcm.pcm.ravel`.\n",
    "\n",
    "The output 2D-array is a :class:`xarray.DataArray` that can be chunked along the ``sampling`` dimension with the PCM constructor option ``chunk_size``:"
   ]
  },
  {
   "cell_type": "code",
   "execution_count": 4,
   "metadata": {
    "execution": {
     "iopub.execute_input": "2020-08-17T12:32:55.597947Z",
     "iopub.status.busy": "2020-08-17T12:32:55.597510Z",
     "iopub.status.idle": "2020-08-17T12:32:55.968781Z",
     "shell.execute_reply": "2020-08-17T12:32:55.969210Z"
    },
    "papermill": {
     "duration": 0.395316,
     "end_time": "2020-08-17T12:32:55.969329",
     "exception": false,
     "start_time": "2020-08-17T12:32:55.574013",
     "status": "completed"
    },
    "tags": []
   },
   "outputs": [],
   "source": [
    "m = pcm(K=3, features=features_pcm, chunk_size=1e3).fit(ds)"
   ]
  },
  {
   "cell_type": "markdown",
   "metadata": {
    "papermill": {
     "duration": 0.010539,
     "end_time": "2020-08-17T12:32:55.992621",
     "exception": false,
     "start_time": "2020-08-17T12:32:55.982082",
     "status": "completed"
    },
    "tags": []
   },
   "source": [
    "By default, ``chunk_size='auto'``."
   ]
  },
  {
   "cell_type": "code",
   "execution_count": 5,
   "metadata": {
    "execution": {
     "iopub.execute_input": "2020-08-17T12:32:56.020062Z",
     "iopub.status.busy": "2020-08-17T12:32:56.019515Z",
     "iopub.status.idle": "2020-08-17T12:32:56.053579Z",
     "shell.execute_reply": "2020-08-17T12:32:56.053947Z"
    },
    "papermill": {
     "duration": 0.05069,
     "end_time": "2020-08-17T12:32:56.054047",
     "exception": false,
     "start_time": "2020-08-17T12:32:56.003357",
     "status": "completed"
    },
    "tags": []
   },
   "outputs": [
    {
     "data": {
      "text/html": [
       "<div><svg style=\"position: absolute; width: 0; height: 0; overflow: hidden\">\n",
       "<defs>\n",
       "<symbol id=\"icon-database\" viewBox=\"0 0 32 32\">\n",
       "<title>Show/Hide data repr</title>\n",
       "<path d=\"M16 0c-8.837 0-16 2.239-16 5v4c0 2.761 7.163 5 16 5s16-2.239 16-5v-4c0-2.761-7.163-5-16-5z\"></path>\n",
       "<path d=\"M16 17c-8.837 0-16-2.239-16-5v6c0 2.761 7.163 5 16 5s16-2.239 16-5v-6c0 2.761-7.163 5-16 5z\"></path>\n",
       "<path d=\"M16 26c-8.837 0-16-2.239-16-5v6c0 2.761 7.163 5 16 5s16-2.239 16-5v-6c0 2.761-7.163 5-16 5z\"></path>\n",
       "</symbol>\n",
       "<symbol id=\"icon-file-text2\" viewBox=\"0 0 32 32\">\n",
       "<title>Show/Hide attributes</title>\n",
       "<path d=\"M28.681 7.159c-0.694-0.947-1.662-2.053-2.724-3.116s-2.169-2.030-3.116-2.724c-1.612-1.182-2.393-1.319-2.841-1.319h-15.5c-1.378 0-2.5 1.121-2.5 2.5v27c0 1.378 1.122 2.5 2.5 2.5h23c1.378 0 2.5-1.122 2.5-2.5v-19.5c0-0.448-0.137-1.23-1.319-2.841zM24.543 5.457c0.959 0.959 1.712 1.825 2.268 2.543h-4.811v-4.811c0.718 0.556 1.584 1.309 2.543 2.268zM28 29.5c0 0.271-0.229 0.5-0.5 0.5h-23c-0.271 0-0.5-0.229-0.5-0.5v-27c0-0.271 0.229-0.5 0.5-0.5 0 0 15.499-0 15.5 0v7c0 0.552 0.448 1 1 1h7v19.5z\"></path>\n",
       "<path d=\"M23 26h-14c-0.552 0-1-0.448-1-1s0.448-1 1-1h14c0.552 0 1 0.448 1 1s-0.448 1-1 1z\"></path>\n",
       "<path d=\"M23 22h-14c-0.552 0-1-0.448-1-1s0.448-1 1-1h14c0.552 0 1 0.448 1 1s-0.448 1-1 1z\"></path>\n",
       "<path d=\"M23 18h-14c-0.552 0-1-0.448-1-1s0.448-1 1-1h14c0.552 0 1 0.448 1 1s-0.448 1-1 1z\"></path>\n",
       "</symbol>\n",
       "</defs>\n",
       "</svg>\n",
       "<style>/* CSS stylesheet for displaying xarray objects in jupyterlab.\n",
       " *\n",
       " */\n",
       "\n",
       ":root {\n",
       "  --xr-font-color0: var(--jp-content-font-color0, rgba(0, 0, 0, 1));\n",
       "  --xr-font-color2: var(--jp-content-font-color2, rgba(0, 0, 0, 0.54));\n",
       "  --xr-font-color3: var(--jp-content-font-color3, rgba(0, 0, 0, 0.38));\n",
       "  --xr-border-color: var(--jp-border-color2, #e0e0e0);\n",
       "  --xr-disabled-color: var(--jp-layout-color3, #bdbdbd);\n",
       "  --xr-background-color: var(--jp-layout-color0, white);\n",
       "  --xr-background-color-row-even: var(--jp-layout-color1, white);\n",
       "  --xr-background-color-row-odd: var(--jp-layout-color2, #eeeeee);\n",
       "}\n",
       "\n",
       ".xr-wrap {\n",
       "  min-width: 300px;\n",
       "  max-width: 700px;\n",
       "}\n",
       "\n",
       ".xr-header {\n",
       "  padding-top: 6px;\n",
       "  padding-bottom: 6px;\n",
       "  margin-bottom: 4px;\n",
       "  border-bottom: solid 1px var(--xr-border-color);\n",
       "}\n",
       "\n",
       ".xr-header > div,\n",
       ".xr-header > ul {\n",
       "  display: inline;\n",
       "  margin-top: 0;\n",
       "  margin-bottom: 0;\n",
       "}\n",
       "\n",
       ".xr-obj-type,\n",
       ".xr-array-name {\n",
       "  margin-left: 2px;\n",
       "  margin-right: 10px;\n",
       "}\n",
       "\n",
       ".xr-obj-type {\n",
       "  color: var(--xr-font-color2);\n",
       "}\n",
       "\n",
       ".xr-sections {\n",
       "  padding-left: 0 !important;\n",
       "  display: grid;\n",
       "  grid-template-columns: 150px auto auto 1fr 20px 20px;\n",
       "}\n",
       "\n",
       ".xr-section-item {\n",
       "  display: contents;\n",
       "}\n",
       "\n",
       ".xr-section-item input {\n",
       "  display: none;\n",
       "}\n",
       "\n",
       ".xr-section-item input + label {\n",
       "  color: var(--xr-disabled-color);\n",
       "}\n",
       "\n",
       ".xr-section-item input:enabled + label {\n",
       "  cursor: pointer;\n",
       "  color: var(--xr-font-color2);\n",
       "}\n",
       "\n",
       ".xr-section-item input:enabled + label:hover {\n",
       "  color: var(--xr-font-color0);\n",
       "}\n",
       "\n",
       ".xr-section-summary {\n",
       "  grid-column: 1;\n",
       "  color: var(--xr-font-color2);\n",
       "  font-weight: 500;\n",
       "}\n",
       "\n",
       ".xr-section-summary > span {\n",
       "  display: inline-block;\n",
       "  padding-left: 0.5em;\n",
       "}\n",
       "\n",
       ".xr-section-summary-in:disabled + label {\n",
       "  color: var(--xr-font-color2);\n",
       "}\n",
       "\n",
       ".xr-section-summary-in + label:before {\n",
       "  display: inline-block;\n",
       "  content: '►';\n",
       "  font-size: 11px;\n",
       "  width: 15px;\n",
       "  text-align: center;\n",
       "}\n",
       "\n",
       ".xr-section-summary-in:disabled + label:before {\n",
       "  color: var(--xr-disabled-color);\n",
       "}\n",
       "\n",
       ".xr-section-summary-in:checked + label:before {\n",
       "  content: '▼';\n",
       "}\n",
       "\n",
       ".xr-section-summary-in:checked + label > span {\n",
       "  display: none;\n",
       "}\n",
       "\n",
       ".xr-section-summary,\n",
       ".xr-section-inline-details {\n",
       "  padding-top: 4px;\n",
       "  padding-bottom: 4px;\n",
       "}\n",
       "\n",
       ".xr-section-inline-details {\n",
       "  grid-column: 2 / -1;\n",
       "}\n",
       "\n",
       ".xr-section-details {\n",
       "  display: none;\n",
       "  grid-column: 1 / -1;\n",
       "  margin-bottom: 5px;\n",
       "}\n",
       "\n",
       ".xr-section-summary-in:checked ~ .xr-section-details {\n",
       "  display: contents;\n",
       "}\n",
       "\n",
       ".xr-array-wrap {\n",
       "  grid-column: 1 / -1;\n",
       "  display: grid;\n",
       "  grid-template-columns: 20px auto;\n",
       "}\n",
       "\n",
       ".xr-array-wrap > label {\n",
       "  grid-column: 1;\n",
       "  vertical-align: top;\n",
       "}\n",
       "\n",
       ".xr-preview {\n",
       "  color: var(--xr-font-color3);\n",
       "}\n",
       "\n",
       ".xr-array-preview,\n",
       ".xr-array-data {\n",
       "  padding: 0 5px !important;\n",
       "  grid-column: 2;\n",
       "}\n",
       "\n",
       ".xr-array-data,\n",
       ".xr-array-in:checked ~ .xr-array-preview {\n",
       "  display: none;\n",
       "}\n",
       "\n",
       ".xr-array-in:checked ~ .xr-array-data,\n",
       ".xr-array-preview {\n",
       "  display: inline-block;\n",
       "}\n",
       "\n",
       ".xr-dim-list {\n",
       "  display: inline-block !important;\n",
       "  list-style: none;\n",
       "  padding: 0 !important;\n",
       "  margin: 0;\n",
       "}\n",
       "\n",
       ".xr-dim-list li {\n",
       "  display: inline-block;\n",
       "  padding: 0;\n",
       "  margin: 0;\n",
       "}\n",
       "\n",
       ".xr-dim-list:before {\n",
       "  content: '(';\n",
       "}\n",
       "\n",
       ".xr-dim-list:after {\n",
       "  content: ')';\n",
       "}\n",
       "\n",
       ".xr-dim-list li:not(:last-child):after {\n",
       "  content: ',';\n",
       "  padding-right: 5px;\n",
       "}\n",
       "\n",
       ".xr-has-index {\n",
       "  font-weight: bold;\n",
       "}\n",
       "\n",
       ".xr-var-list,\n",
       ".xr-var-item {\n",
       "  display: contents;\n",
       "}\n",
       "\n",
       ".xr-var-item > div,\n",
       ".xr-var-item label,\n",
       ".xr-var-item > .xr-var-name span {\n",
       "  background-color: var(--xr-background-color-row-even);\n",
       "  margin-bottom: 0;\n",
       "}\n",
       "\n",
       ".xr-var-item > .xr-var-name:hover span {\n",
       "  padding-right: 5px;\n",
       "}\n",
       "\n",
       ".xr-var-list > li:nth-child(odd) > div,\n",
       ".xr-var-list > li:nth-child(odd) > label,\n",
       ".xr-var-list > li:nth-child(odd) > .xr-var-name span {\n",
       "  background-color: var(--xr-background-color-row-odd);\n",
       "}\n",
       "\n",
       ".xr-var-name {\n",
       "  grid-column: 1;\n",
       "}\n",
       "\n",
       ".xr-var-dims {\n",
       "  grid-column: 2;\n",
       "}\n",
       "\n",
       ".xr-var-dtype {\n",
       "  grid-column: 3;\n",
       "  text-align: right;\n",
       "  color: var(--xr-font-color2);\n",
       "}\n",
       "\n",
       ".xr-var-preview {\n",
       "  grid-column: 4;\n",
       "}\n",
       "\n",
       ".xr-var-name,\n",
       ".xr-var-dims,\n",
       ".xr-var-dtype,\n",
       ".xr-preview,\n",
       ".xr-attrs dt {\n",
       "  white-space: nowrap;\n",
       "  overflow: hidden;\n",
       "  text-overflow: ellipsis;\n",
       "  padding-right: 10px;\n",
       "}\n",
       "\n",
       ".xr-var-name:hover,\n",
       ".xr-var-dims:hover,\n",
       ".xr-var-dtype:hover,\n",
       ".xr-attrs dt:hover {\n",
       "  overflow: visible;\n",
       "  width: auto;\n",
       "  z-index: 1;\n",
       "}\n",
       "\n",
       ".xr-var-attrs,\n",
       ".xr-var-data {\n",
       "  display: none;\n",
       "  background-color: var(--xr-background-color) !important;\n",
       "  padding-bottom: 5px !important;\n",
       "}\n",
       "\n",
       ".xr-var-attrs-in:checked ~ .xr-var-attrs,\n",
       ".xr-var-data-in:checked ~ .xr-var-data {\n",
       "  display: block;\n",
       "}\n",
       "\n",
       ".xr-var-data > table {\n",
       "  float: right;\n",
       "}\n",
       "\n",
       ".xr-var-name span,\n",
       ".xr-var-data,\n",
       ".xr-attrs {\n",
       "  padding-left: 25px !important;\n",
       "}\n",
       "\n",
       ".xr-attrs,\n",
       ".xr-var-attrs,\n",
       ".xr-var-data {\n",
       "  grid-column: 1 / -1;\n",
       "}\n",
       "\n",
       "dl.xr-attrs {\n",
       "  padding: 0;\n",
       "  margin: 0;\n",
       "  display: grid;\n",
       "  grid-template-columns: 125px auto;\n",
       "}\n",
       "\n",
       ".xr-attrs dt, dd {\n",
       "  padding: 0;\n",
       "  margin: 0;\n",
       "  float: left;\n",
       "  padding-right: 10px;\n",
       "  width: auto;\n",
       "}\n",
       "\n",
       ".xr-attrs dt {\n",
       "  font-weight: normal;\n",
       "  grid-column: 1;\n",
       "}\n",
       "\n",
       ".xr-attrs dt:hover span {\n",
       "  display: inline-block;\n",
       "  background: var(--xr-background-color);\n",
       "  padding-right: 10px;\n",
       "}\n",
       "\n",
       ".xr-attrs dd {\n",
       "  grid-column: 2;\n",
       "  white-space: pre-wrap;\n",
       "  word-break: break-all;\n",
       "}\n",
       "\n",
       ".xr-icon-database,\n",
       ".xr-icon-file-text2 {\n",
       "  display: inline-block;\n",
       "  vertical-align: middle;\n",
       "  width: 1em;\n",
       "  height: 1.5em !important;\n",
       "  stroke-width: 0;\n",
       "  stroke: currentColor;\n",
       "  fill: currentColor;\n",
       "}\n",
       "</style><div class='xr-wrap'><div class='xr-header'><div class='xr-obj-type'>xarray.DataArray</div><div class='xr-array-name'>'TEMP'</div><ul class='xr-dim-list'><li><span class='xr-has-index'>sampling</span>: 2289</li><li><span class='xr-has-index'>depth</span>: 152</li></ul></div><ul class='xr-sections'><li class='xr-section-item'><div class='xr-array-wrap'><input id='section-5f99b42f-9cd9-45f8-836d-39048158cd02' class='xr-array-in' type='checkbox' ><label for='section-5f99b42f-9cd9-45f8-836d-39048158cd02' title='Show/hide data repr'><svg class='icon xr-icon-database'><use xlink:href='#icon-database'></use></svg></label><div class='xr-array-preview xr-preview'><span>dask.array&lt;chunksize=(1000, 152), meta=np.ndarray&gt;</span></div><pre class='xr-array-data'><table>\n",
       "<tr>\n",
       "<td>\n",
       "<table>\n",
       "  <thead>\n",
       "    <tr><td> </td><th> Array </th><th> Chunk </th></tr>\n",
       "  </thead>\n",
       "  <tbody>\n",
       "    <tr><th> Bytes </th><td> 1.39 MB </td> <td> 608.00 kB </td></tr>\n",
       "    <tr><th> Shape </th><td> (2289, 152) </td> <td> (1000, 152) </td></tr>\n",
       "    <tr><th> Count </th><td> 27 Tasks </td><td> 3 Chunks </td></tr>\n",
       "    <tr><th> Type </th><td> float32 </td><td> numpy.ndarray </td></tr>\n",
       "  </tbody>\n",
       "</table>\n",
       "</td>\n",
       "<td>\n",
       "<svg width=\"86\" height=\"170\" style=\"stroke:rgb(0,0,0);stroke-width:1\" >\n",
       "\n",
       "  <!-- Horizontal lines -->\n",
       "  <line x1=\"0\" y1=\"0\" x2=\"36\" y2=\"0\" style=\"stroke-width:2\" />\n",
       "  <line x1=\"0\" y1=\"52\" x2=\"36\" y2=\"52\" />\n",
       "  <line x1=\"0\" y1=\"104\" x2=\"36\" y2=\"104\" />\n",
       "  <line x1=\"0\" y1=\"120\" x2=\"36\" y2=\"120\" style=\"stroke-width:2\" />\n",
       "\n",
       "  <!-- Vertical lines -->\n",
       "  <line x1=\"0\" y1=\"0\" x2=\"0\" y2=\"120\" style=\"stroke-width:2\" />\n",
       "  <line x1=\"36\" y1=\"0\" x2=\"36\" y2=\"120\" style=\"stroke-width:2\" />\n",
       "\n",
       "  <!-- Colored Rectangle -->\n",
       "  <polygon points=\"0.000000,0.000000 36.224210,0.000000 36.224210,120.000000 0.000000,120.000000\" style=\"fill:#ECB172A0;stroke-width:0\"/>\n",
       "\n",
       "  <!-- Text -->\n",
       "  <text x=\"18.112105\" y=\"140.000000\" font-size=\"1.0rem\" font-weight=\"100\" text-anchor=\"middle\" >152</text>\n",
       "  <text x=\"56.224210\" y=\"60.000000\" font-size=\"1.0rem\" font-weight=\"100\" text-anchor=\"middle\" transform=\"rotate(-90,56.224210,60.000000)\">2289</text>\n",
       "</svg>\n",
       "</td>\n",
       "</tr>\n",
       "</table></pre></div></li><li class='xr-section-item'><input id='section-44784151-d63b-4874-aa68-6322f4a4e2b0' class='xr-section-summary-in' type='checkbox'  checked><label for='section-44784151-d63b-4874-aa68-6322f4a4e2b0' class='xr-section-summary' >Coordinates: <span>(2)</span></label><div class='xr-section-inline-details'></div><div class='xr-section-details'><ul class='xr-var-list'><li class='xr-var-item'><div class='xr-var-name'><span class='xr-has-index'>depth</span></div><div class='xr-var-dims'>(depth)</div><div class='xr-var-dtype'>float32</div><div class='xr-var-preview xr-preview'>-1.0 -3.0 -5.0 ... -1980.0 -2000.0</div><input id='attrs-b926d755-0381-435c-8025-a8b219b99a1c' class='xr-var-attrs-in' type='checkbox' ><label for='attrs-b926d755-0381-435c-8025-a8b219b99a1c' title='Show/Hide attributes'><svg class='icon xr-icon-file-text2'><use xlink:href='#icon-file-text2'></use></svg></label><input id='data-c2667871-2efa-4ffd-b4c3-3a0e2dabfa28' class='xr-var-data-in' type='checkbox'><label for='data-c2667871-2efa-4ffd-b4c3-3a0e2dabfa28' title='Show/Hide data repr'><svg class='icon xr-icon-database'><use xlink:href='#icon-database'></use></svg></label><div class='xr-var-attrs'><dl class='xr-attrs'><dt><span>axis :</span></dt><dd>Z</dd><dt><span>units :</span></dt><dd>meters</dd><dt><span>positive :</span></dt><dd>up</dd></dl></div><pre class='xr-var-data'>array([-1.00e+00, -3.00e+00, -5.00e+00, -1.00e+01, -1.50e+01, -2.00e+01,\n",
       "       -2.50e+01, -3.00e+01, -3.50e+01, -4.00e+01, -4.50e+01, -5.00e+01,\n",
       "       -5.50e+01, -6.00e+01, -6.50e+01, -7.00e+01, -7.50e+01, -8.00e+01,\n",
       "       -8.50e+01, -9.00e+01, -9.50e+01, -1.00e+02, -1.10e+02, -1.20e+02,\n",
       "       -1.30e+02, -1.40e+02, -1.50e+02, -1.60e+02, -1.70e+02, -1.80e+02,\n",
       "       -1.90e+02, -2.00e+02, -2.10e+02, -2.20e+02, -2.30e+02, -2.40e+02,\n",
       "       -2.50e+02, -2.60e+02, -2.70e+02, -2.80e+02, -2.90e+02, -3.00e+02,\n",
       "       -3.10e+02, -3.20e+02, -3.30e+02, -3.40e+02, -3.50e+02, -3.60e+02,\n",
       "       -3.70e+02, -3.80e+02, -3.90e+02, -4.00e+02, -4.10e+02, -4.20e+02,\n",
       "       -4.30e+02, -4.40e+02, -4.50e+02, -4.60e+02, -4.70e+02, -4.80e+02,\n",
       "       -4.90e+02, -5.00e+02, -5.10e+02, -5.20e+02, -5.30e+02, -5.40e+02,\n",
       "       -5.50e+02, -5.60e+02, -5.70e+02, -5.80e+02, -5.90e+02, -6.00e+02,\n",
       "       -6.10e+02, -6.20e+02, -6.30e+02, -6.40e+02, -6.50e+02, -6.60e+02,\n",
       "       -6.70e+02, -6.80e+02, -6.90e+02, -7.00e+02, -7.10e+02, -7.20e+02,\n",
       "       -7.30e+02, -7.40e+02, -7.50e+02, -7.60e+02, -7.70e+02, -7.80e+02,\n",
       "       -7.90e+02, -8.00e+02, -8.20e+02, -8.40e+02, -8.60e+02, -8.80e+02,\n",
       "       -9.00e+02, -9.20e+02, -9.40e+02, -9.60e+02, -9.80e+02, -1.00e+03,\n",
       "       -1.02e+03, -1.04e+03, -1.06e+03, -1.08e+03, -1.10e+03, -1.12e+03,\n",
       "       -1.14e+03, -1.16e+03, -1.18e+03, -1.20e+03, -1.22e+03, -1.24e+03,\n",
       "       -1.26e+03, -1.28e+03, -1.30e+03, -1.32e+03, -1.34e+03, -1.36e+03,\n",
       "       -1.38e+03, -1.40e+03, -1.42e+03, -1.44e+03, -1.46e+03, -1.48e+03,\n",
       "       -1.50e+03, -1.52e+03, -1.54e+03, -1.56e+03, -1.58e+03, -1.60e+03,\n",
       "       -1.62e+03, -1.64e+03, -1.66e+03, -1.68e+03, -1.70e+03, -1.72e+03,\n",
       "       -1.74e+03, -1.76e+03, -1.78e+03, -1.80e+03, -1.82e+03, -1.84e+03,\n",
       "       -1.86e+03, -1.88e+03, -1.90e+03, -1.92e+03, -1.94e+03, -1.96e+03,\n",
       "       -1.98e+03, -2.00e+03], dtype=float32)</pre></li><li class='xr-var-item'><div class='xr-var-name'><span class='xr-has-index'>sampling</span></div><div class='xr-var-dims'>(sampling)</div><div class='xr-var-dtype'>MultiIndex</div><div class='xr-var-preview xr-preview'>(latitude, longitude)</div><input id='attrs-2ac3037d-4fff-44c2-9a13-a212b1f0e327' class='xr-var-attrs-in' type='checkbox' disabled><label for='attrs-2ac3037d-4fff-44c2-9a13-a212b1f0e327' title='Show/Hide attributes'><svg class='icon xr-icon-file-text2'><use xlink:href='#icon-file-text2'></use></svg></label><input id='data-c91a2de5-f751-40d6-91d3-20dce7b39afa' class='xr-var-data-in' type='checkbox'><label for='data-c91a2de5-f751-40d6-91d3-20dce7b39afa' title='Show/Hide data repr'><svg class='icon xr-icon-database'><use xlink:href='#icon-database'></use></svg></label><div class='xr-var-attrs'><dl class='xr-attrs'></dl></div><pre class='xr-var-data'>array([(30.02344512939453, -70.0), (30.02344512939453, -69.5),\n",
       "       (30.02344512939453, -69.0), ..., (49.73710250854492, -41.0),\n",
       "       (49.73710250854492, -40.5), (49.73710250854492, -40.0)], dtype=object)</pre></li><li class='xr-var-item'><div class='xr-var-name'><span>latitude</span></div><div class='xr-var-dims'>(sampling)</div><div class='xr-var-dtype'>float64</div><div class='xr-var-preview xr-preview'>30.02 30.02 30.02 ... 49.74 49.74</div><input id='attrs-b682a948-056b-47f1-b591-10e7236d738c' class='xr-var-attrs-in' type='checkbox' disabled><label for='attrs-b682a948-056b-47f1-b591-10e7236d738c' title='Show/Hide attributes'><svg class='icon xr-icon-file-text2'><use xlink:href='#icon-file-text2'></use></svg></label><input id='data-b433cf39-4dd9-4735-b633-7bf6f59728ec' class='xr-var-data-in' type='checkbox'><label for='data-b433cf39-4dd9-4735-b633-7bf6f59728ec' title='Show/Hide data repr'><svg class='icon xr-icon-database'><use xlink:href='#icon-database'></use></svg></label><div class='xr-var-attrs'><dl class='xr-attrs'></dl></div><pre class='xr-var-data'>array([30.023445, 30.023445, 30.023445, ..., 49.737103, 49.737103, 49.737103])</pre></li><li class='xr-var-item'><div class='xr-var-name'><span>longitude</span></div><div class='xr-var-dims'>(sampling)</div><div class='xr-var-dtype'>float64</div><div class='xr-var-preview xr-preview'>-70.0 -69.5 -69.0 ... -40.5 -40.0</div><input id='attrs-cdcd37b1-c803-45ff-97ce-1ce976bd14e6' class='xr-var-attrs-in' type='checkbox' disabled><label for='attrs-cdcd37b1-c803-45ff-97ce-1ce976bd14e6' title='Show/Hide attributes'><svg class='icon xr-icon-file-text2'><use xlink:href='#icon-file-text2'></use></svg></label><input id='data-bfa6063b-e0ba-4892-af53-589a0bf8e5c5' class='xr-var-data-in' type='checkbox'><label for='data-bfa6063b-e0ba-4892-af53-589a0bf8e5c5' title='Show/Hide data repr'><svg class='icon xr-icon-database'><use xlink:href='#icon-database'></use></svg></label><div class='xr-var-attrs'><dl class='xr-attrs'></dl></div><pre class='xr-var-data'>array([-70. , -69.5, -69. , ..., -41. , -40.5, -40. ])</pre></li></ul></div></li><li class='xr-section-item'><input id='section-bde312c8-e440-40ef-9786-972a5d124d7f' class='xr-section-summary-in' type='checkbox'  checked><label for='section-bde312c8-e440-40ef-9786-972a5d124d7f' class='xr-section-summary' >Attributes: <span>(5)</span></label><div class='xr-section-inline-details'></div><div class='xr-section-details'><dl class='xr-attrs'><dt><span>long_name :</span></dt><dd>Temperature </dd><dt><span>standard_name :</span></dt><dd>sea_water_temperature</dd><dt><span>units :</span></dt><dd>degree_Celsius</dd><dt><span>valid_min :</span></dt><dd>-23000</dd><dt><span>valid_max :</span></dt><dd>20000</dd></dl></div></li></ul></div></div>"
      ],
      "text/plain": [
       "<xarray.DataArray 'TEMP' (sampling: 2289, depth: 152)>\n",
       "dask.array<rechunk-merge, shape=(2289, 152), dtype=float32, chunksize=(1000, 152), chunktype=numpy.ndarray>\n",
       "Coordinates:\n",
       "  * depth      (depth) float32 -1.0 -3.0 -5.0 -10.0 ... -1960.0 -1980.0 -2000.0\n",
       "  * sampling   (sampling) MultiIndex\n",
       "  - latitude   (sampling) float64 30.02 30.02 30.02 30.02 ... 49.74 49.74 49.74\n",
       "  - longitude  (sampling) float64 -70.0 -69.5 -69.0 -68.5 ... -41.0 -40.5 -40.0\n",
       "Attributes:\n",
       "    long_name:      Temperature \n",
       "    standard_name:  sea_water_temperature\n",
       "    units:          degree_Celsius\n",
       "    valid_min:      -23000\n",
       "    valid_max:      20000"
      ]
     },
     "execution_count": 5,
     "metadata": {},
     "output_type": "execute_result"
    }
   ],
   "source": [
    "X, z, sampling_dims = m.ravel(ds['TEMP'], dim='depth', feature_name='TEMP')\n",
    "X"
   ]
  },
  {
   "cell_type": "raw",
   "metadata": {
    "papermill": {
     "duration": 0.009673,
     "end_time": "2020-08-17T12:32:56.073425",
     "exception": false,
     "start_time": "2020-08-17T12:32:56.063752",
     "status": "completed"
    },
    "raw_mimetype": "text/restructuredtext",
    "tags": []
   },
   "source": [
    "See the chunksize of the :class:`dask.array.Array` for this feature."
   ]
  },
  {
   "cell_type": "markdown",
   "metadata": {
    "papermill": {
     "duration": 0.009676,
     "end_time": "2020-08-17T12:32:56.093205",
     "exception": false,
     "start_time": "2020-08-17T12:32:56.083529",
     "status": "completed"
    },
    "tags": []
   },
   "source": [
    "### Interpolate"
   ]
  },
  {
   "cell_type": "raw",
   "metadata": {
    "papermill": {
     "duration": 0.013535,
     "end_time": "2020-08-17T12:32:56.118913",
     "exception": false,
     "start_time": "2020-08-17T12:32:56.105378",
     "status": "completed"
    },
    "raw_mimetype": "text/restructuredtext",
    "tags": []
   },
   "source": [
    "Even if input data vertical axis are in the range of the PCM feature axis, they may not be defined on similar level values. In this step, if the input data are not defined on the same vertical axis as the PCM, an interpolation is triggered. The interpolation is conducted following these rules:\n",
    "\n",
    "- If PCM axis levels are found into the input data vertical axis, then a simple intersection is used.\n",
    "- If PCM axis starts at the surface (0 value) and not the input data, the 1st non-nan value is replicated to the surface, as a mixed layer.\n",
    "- If PCM axis levels are not in the input data vertical axis, a linear interpolation through the :meth:`xarray.DataArray.interp` method is triggered for each profiles.\n",
    "\n",
    "The entire interpolation processed is managed by a :class:`pyxpcm.utils.Vertical_Interpolator` instance that is created at the time of PCM instanciation."
   ]
  },
  {
   "cell_type": "markdown",
   "metadata": {
    "papermill": {
     "duration": 0.010711,
     "end_time": "2020-08-17T12:32:56.142416",
     "exception": false,
     "start_time": "2020-08-17T12:32:56.131705",
     "status": "completed"
    },
    "tags": []
   },
   "source": [
    "Scale\n",
    "-----"
   ]
  },
  {
   "cell_type": "raw",
   "metadata": {
    "papermill": {
     "duration": 0.011996,
     "end_time": "2020-08-17T12:32:56.166319",
     "exception": false,
     "start_time": "2020-08-17T12:32:56.154323",
     "status": "completed"
    },
    "raw_mimetype": "text/restructuredtext",
    "tags": []
   },
   "source": [
    "Each variable can be normalised along a vertical level. This step ensures that structures/patterns located at depth in the profile, will be considered similarly to those close to the surface by the classifier.\n",
    "\n",
    "Scaling is defined at the PCM creation (:class:`pyxpcm.models.pcm`) with the option ``scale``. It is an integer value with the following meaning:\n",
    "\n",
    "    - 0: No scaling\n",
    "    - 1: Center on sample mean and scale by sample std\n",
    "    - 2: Center on sample mean only"
   ]
  },
  {
   "cell_type": "markdown",
   "metadata": {
    "papermill": {
     "duration": 0.010042,
     "end_time": "2020-08-17T12:32:56.186208",
     "exception": false,
     "start_time": "2020-08-17T12:32:56.176166",
     "status": "completed"
    },
    "tags": []
   },
   "source": [
    "## Recuce\n",
    "\n",
    "[TBC]"
   ]
  },
  {
   "cell_type": "markdown",
   "metadata": {
    "papermill": {
     "duration": 0.01026,
     "end_time": "2020-08-17T12:32:56.206751",
     "exception": false,
     "start_time": "2020-08-17T12:32:56.196491",
     "status": "completed"
    },
    "tags": []
   },
   "source": [
    "## Combine\n",
    "\n",
    "[TBC]"
   ]
  }
 ],
 "metadata": {
  "kernelspec": {
   "display_name": "obidam36",
   "language": "python",
   "name": "obidam36"
  },
  "language_info": {
   "codemirror_mode": {
    "name": "ipython",
    "version": 3
   },
   "file_extension": ".py",
   "mimetype": "text/x-python",
   "name": "python",
   "nbconvert_exporter": "python",
   "pygments_lexer": "ipython3",
   "version": "3.6.10"
  },
  "papermill": {
   "duration": 5.006757,
   "end_time": "2020-08-17T12:32:56.728906",
   "environment_variables": {},
   "exception": null,
   "input_path": "preprocessing.ipynb",
   "output_path": "../preprocessing.ipynb",
   "parameters": {},
   "start_time": "2020-08-17T12:32:51.722149",
   "version": "2.1.1"
  },
  "toc-showmarkdowntxt": false,
  "widgets": {
   "application/vnd.jupyter.widget-state+json": {
    "state": {},
    "version_major": 2,
    "version_minor": 0
   }
  }
 },
 "nbformat": 4,
 "nbformat_minor": 4
}