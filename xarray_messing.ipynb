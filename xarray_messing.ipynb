{
 "cells": [
  {
   "cell_type": "code",
   "execution_count": 1,
   "metadata": {},
   "outputs": [],
   "source": [
    "main_dir = '/Users/simon/fbso/fbso/bsose_monthly/'\n",
    "salt = main_dir +  'bsose_i106_2008to2012_monthly_Salt.nc'\n",
    "theta = main_dir +  'bsose_i106_2008to2012_monthly_Theta.nc'\n",
    "import xarray as xr"
   ]
  },
  {
   "cell_type": "code",
   "execution_count": 2,
   "metadata": {},
   "outputs": [],
   "source": [
    "salt = xr.open_dataset(salt)"
   ]
  },
  {
   "cell_type": "code",
   "execution_count": 12,
   "metadata": {},
   "outputs": [
    {
     "name": "stdout",
     "output_type": "stream",
     "text": [
      "iter\n",
      "{'long_name': 'model timestep number', 'standard_name': 'timestep'}\n",
      "time\n",
      "{'long_name': 'Time', 'standard_name': 'time', 'axis': 'T'}\n",
      "XC\n",
      "{'coordinate': 'YC XC', 'units': 'degrees_east', 'standard_name': 'longitude', 'long_name': 'longitude', 'axis': 'X'}\n",
      "YC\n",
      "{'coordinate': 'YC XC', 'units': 'degrees_north', 'standard_name': 'latitude', 'long_name': 'latitude', 'axis': 'Y'}\n",
      "Z\n",
      "{'units': 'm', 'positive': 'down', 'standard_name': 'depth', 'long_name': 'vertical coordinate of cell center', 'axis': 'Z'}\n",
      "Depth\n",
      "{'coordinate': 'XC YC', 'units': 'm', 'standard_name': 'ocean_depth', 'long_name': 'ocean depth'}\n",
      "rA\n",
      "{'coordinate': 'YC XC', 'units': 'm2', 'standard_name': 'cell_area', 'long_name': 'cell area'}\n",
      "drF\n",
      "{'units': 'm', 'long_name': 'cell z size', 'standard_name': 'cell_z_size'}\n",
      "hFacC\n",
      "{'long_name': 'vertical fraction of open cell', 'standard_name': 'cell_vertical_fraction'}\n"
     ]
    }
   ],
   "source": [
    "for coord in salt.coords:\n",
    "    print(coord)\n",
    "    print(salt.coords[coord].attrs)\n"
   ]
  },
  {
   "cell_type": "code",
   "execution_count": null,
   "metadata": {},
   "outputs": [],
   "source": []
  }
 ],
 "metadata": {
  "kernelspec": {
   "display_name": "Python 3",
   "language": "python",
   "name": "python3"
  },
  "language_info": {
   "codemirror_mode": {
    "name": "ipython",
    "version": 3
   },
   "file_extension": ".py",
   "mimetype": "text/x-python",
   "name": "python",
   "nbconvert_exporter": "python",
   "pygments_lexer": "ipython3",
   "version": "3.8.3"
  }
 },
 "nbformat": 4,
 "nbformat_minor": 4
}
