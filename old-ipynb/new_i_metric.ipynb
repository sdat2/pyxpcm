{
 "cells": [
  {
   "cell_type": "code",
   "execution_count": 3,
   "metadata": {},
   "outputs": [
    {
     "name": "stdout",
     "output_type": "stream",
     "text": [
      "The autoreload extension is already loaded. To reload it, use:\n",
      "  %reload_ext autoreload\n"
     ]
    }
   ],
   "source": [
    "main_dir = '/Users/simon/bsose_monthly/'\n",
    "salt = main_dir + 'bsose_i106_2008to2012_monthly_Salt.nc'\n",
    "theta = main_dir + 'bsose_i106_2008to2012_monthly_Theta.nc'\n",
    "\n",
    "%load_ext autoreload\n",
    "%autoreload 2\n",
    "import numpy as np\n",
    "import xarray as xr\n",
    "xr.set_options(keep_attrs=True)\n",
    "import matplotlib.pyplot as plt\n",
    "import cartopy.crs as ccrs\n",
    "import cartopy.feature\n",
    "import matplotlib.path as mpath\n",
    "import os, sys\n",
    "sys.path.insert(0, os.path.abspath('..'))\n",
    "\n",
    "import pyxpcm\n",
    "from pyxpcm.models import pcm\n",
    "\n",
    "\n",
    "def pcm_fit_and_post(time_i=42, K=4, maxvar=2):  \n",
    "    # Define features to use\n",
    "    # Instantiate the PCM\n",
    "    \n",
    "    max_depth = 2000\n",
    "    z = np.arange(0., -max_depth, -10.)\n",
    "    features_pcm = {'THETA': z, 'SALT': z}\n",
    "    features = {'THETA': 'THETA', 'SALT': 'SALT'}\n",
    "    salt_nc = xr.open_dataset(salt).isel(time=time_i)\n",
    "    theta_nc = xr.open_dataset(theta).isel(time=time_i)\n",
    "    big_nc = xr.merge([salt_nc, theta_nc])\n",
    "    both_nc = big_nc.where(big_nc.coords['Depth'] > \n",
    "                           max_depth).drop(['iter', 'Depth', \n",
    "                                            'rA', 'drF', 'hFacC'])   \n",
    " \n",
    "    attr_d = {}\n",
    "\n",
    "    for coord in both_nc.coords:\n",
    "        attr_d[coord] = both_nc.coords[coord].attrs\n",
    "        \n",
    "    lons_new = np.linspace(both_nc.XC.min(), both_nc.XC.max(), 60*4)\n",
    "    lats_new = np.linspace(both_nc.YC.min(), both_nc.YC.max(), 60)\n",
    "    # ds = both_nc # .copy(deep=True)\n",
    "    ds = both_nc.interp(coords={'YC': lats_new, 'XC': lons_new})#, method='cubic')\n",
    "        \n",
    "    m = pcm(K=K, features=features_pcm, \n",
    "            maxvar=maxvar, \n",
    "            #timeit=True, timeit_verb=1, \n",
    "            separate_pca=False)\n",
    "    m.fit(ds, features=features, dim='Z') #, inplace=True)\n",
    "    m.predict(ds, features=features, dim='Z', inplace=True)\n",
    "    m.predict_proba(ds, features=features, dim='Z', inplace=True)\n",
    "    m.find_i_metric(ds, inplace=True)\n",
    "    \n",
    "    def sanitize():\n",
    "        del ds.PCM_LABELS.attrs['_pyXpcm_cleanable']\n",
    "        del ds.PCM_POST.attrs['_pyXpcm_cleanable']\n",
    "        del ds.PCM_RANK.attrs['_pyXpcm_cleanable']\n",
    "        \n",
    "    for coord in attr_d:\n",
    "        ds.coords[coord].attrs = attr_d[coord]\n",
    "    \n",
    "    sanitize()\n",
    "    return ds, m"
   ]
  },
  {
   "cell_type": "code",
   "execution_count": 4,
   "metadata": {},
   "outputs": [
    {
     "name": "stdout",
     "output_type": "stream",
     "text": [
      "Fitting PCA\n",
      "[(0, 0), (1, 0), (1, 1), (2, 0), (2, 1), (2, 2), (3, 0), (3, 1), (3, 2), (3, 3)]\n",
      "(10437, 2)\n",
      "(10437, 4)\n"
     ]
    }
   ],
   "source": [
    "ds, m = pcm_fit_and_post(time_i=42, K=4, maxvar=2)"
   ]
  },
  {
   "cell_type": "code",
   "execution_count": 31,
   "metadata": {},
   "outputs": [],
   "source": [
    "shape = np.shape(ds.PCM_POST.values)\n",
    "ic_metric = np.zeros([shape[1], shape[2]])\n",
    "a_b = np.zeros([2, shape[1], shape[2]])\n",
    "\n",
    "for i in range(shape[1]):\n",
    "    for j in range(shape[2]):\n",
    "        ic_metric[i, j], a_b[:, i, j] = get_i_metric(ds.PCM_POST.values[:, i, j].tolist())"
   ]
  },
  {
   "cell_type": "code",
   "execution_count": 26,
   "metadata": {},
   "outputs": [],
   "source": [
    "def get_i_metric(posterior_prob_list):\n",
    "    \"\"\"\n",
    "    :return: gmm_profile list:\n",
    "    :return: gmm: the gmm object to save.\n",
    "    \"\"\"\n",
    "    if np.nan not in posterior_prob_list:\n",
    "\n",
    "        sorted_posterior_list = sorted(posterior_prob_list)\n",
    "\n",
    "        ic_metric = 1 - (sorted_posterior_list[-1] - sorted_posterior_list[-2])\n",
    "\n",
    "        runner_up_label = posterior_prob_list.index(sorted_posterior_list[-2])\n",
    "\n",
    "        label = posterior_prob_list.index(sorted_posterior_list[-1])\n",
    "\n",
    "        return ic_metric, np.array([label, runner_up_label])\n",
    "    \n",
    "    else:\n",
    "        \n",
    "        return np.nan, np.array([np.nan, np.nan])\n"
   ]
  },
  {
   "cell_type": "code",
   "execution_count": 29,
   "metadata": {},
   "outputs": [
    {
     "data": {
      "text/plain": [
       "(4, 60, 240)"
      ]
     },
     "execution_count": 29,
     "metadata": {},
     "output_type": "execute_result"
    }
   ],
   "source": [
    "shape"
   ]
  },
  {
   "cell_type": "code",
   "execution_count": 32,
   "metadata": {},
   "outputs": [
    {
     "data": {
      "text/plain": [
       "array([[nan, nan, nan, ..., nan, nan, nan],\n",
       "       [nan, nan, nan, ..., nan, nan, nan],\n",
       "       [nan, nan, nan, ..., nan, nan, nan],\n",
       "       ...,\n",
       "       [ 0.,  0.,  0., ...,  0.,  0.,  0.],\n",
       "       [ 0.,  0., nan, ...,  0.,  0.,  0.],\n",
       "       [ 0.,  0.,  0., ...,  0.,  0.,  0.]])"
      ]
     },
     "execution_count": 32,
     "metadata": {},
     "output_type": "execute_result"
    }
   ],
   "source": [
    "ic_metric"
   ]
  },
  {
   "cell_type": "code",
   "execution_count": 33,
   "metadata": {},
   "outputs": [
    {
     "data": {
      "text/plain": [
       "(60, 240)"
      ]
     },
     "execution_count": 33,
     "metadata": {},
     "output_type": "execute_result"
    }
   ],
   "source": [
    "np.shape(ic_metric)"
   ]
  },
  {
   "cell_type": "code",
   "execution_count": 34,
   "metadata": {},
   "outputs": [
    {
     "data": {
      "text/plain": [
       "array([[[3., 3., 3., ..., 3., 3., 3.],\n",
       "        [3., 3., 3., ..., 3., 3., 3.],\n",
       "        [3., 3., 3., ..., 3., 3., 3.],\n",
       "        ...,\n",
       "        [0., 0., 0., ..., 0., 0., 0.],\n",
       "        [0., 0., 3., ..., 0., 0., 0.],\n",
       "        [0., 0., 0., ..., 0., 0., 0.]],\n",
       "\n",
       "       [[2., 2., 2., ..., 2., 2., 2.],\n",
       "        [2., 2., 2., ..., 2., 2., 2.],\n",
       "        [2., 2., 2., ..., 2., 2., 2.],\n",
       "        ...,\n",
       "        [2., 2., 2., ..., 2., 2., 2.],\n",
       "        [2., 2., 2., ..., 2., 2., 2.],\n",
       "        [2., 2., 2., ..., 2., 2., 2.]]])"
      ]
     },
     "execution_count": 34,
     "metadata": {},
     "output_type": "execute_result"
    }
   ],
   "source": [
    "a_b"
   ]
  },
  {
   "cell_type": "code",
   "execution_count": 36,
   "metadata": {},
   "outputs": [
    {
     "data": {
      "text/plain": [
       "<matplotlib.image.AxesImage at 0x7fd8ce464eb0>"
      ]
     },
     "execution_count": 36,
     "metadata": {},
     "output_type": "execute_result"
    },
    {
     "data": {
      "image/png": "[encoded data removed]",
      "text/plain": [
       "<Figure size 432x288 with 1 Axes>"
      ]
     },
     "metadata": {
      "needs_background": "light"
     },
     "output_type": "display_data"
    }
   ],
   "source": [
    "plt.imshow(ic_metric)\n",
    "plt.colorbar()"
   ]
  },
  {
   "cell_type": "code",
   "execution_count": null,
   "metadata": {},
   "outputs": [],
   "source": []
  }
 ],
 "metadata": {
  "kernelspec": {
   "display_name": "Python 3",
   "language": "python",
   "name": "python3"
  },
  "language_info": {
   "codemirror_mode": {
    "name": "ipython",
    "version": 3
   },
   "file_extension": ".py",
   "mimetype": "text/x-python",
   "name": "python",
   "nbconvert_exporter": "python",
   "pygments_lexer": "ipython3",
   "version": "3.8.3"
  }
 },
 "nbformat": 4,
 "nbformat_minor": 4
}
